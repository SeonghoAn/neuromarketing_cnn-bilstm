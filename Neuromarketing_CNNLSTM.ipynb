{
  "nbformat": 4,
  "nbformat_minor": 0,
  "metadata": {
    "colab": {
      "provenance": [],
      "machine_shape": "hm",
      "gpuType": "V100"
    },
    "kernelspec": {
      "name": "python3",
      "display_name": "Python 3"
    },
    "language_info": {
      "name": "python"
    },
    "accelerator": "GPU",
    "gpuClass": "standard"
  },
  "cells": [
    {
      "cell_type": "code",
      "source": [
        "from google.colab import drive\n",
        "drive.mount('/content/drive')"
      ],
      "metadata": {
        "colab": {
          "base_uri": "https://localhost:8080/"
        },
        "id": "y1zfZIEzgq1x",
        "outputId": "e4a01d38-17a9-4b8a-973a-c036ab069697"
      },
      "execution_count": 1,
      "outputs": [
        {
          "output_type": "stream",
          "name": "stdout",
          "text": [
            "Mounted at /content/drive\n"
          ]
        }
      ]
    },
    {
      "cell_type": "code",
      "source": [
        "!cp /content/drive/MyDrive/neuromarketing/dataset_sd.pkl ./dataset_sd.pkl"
      ],
      "metadata": {
        "id": "I9i_EYYElAoJ"
      },
      "execution_count": 3,
      "outputs": []
    },
    {
      "cell_type": "markdown",
      "source": [
        "# 0. Package Import"
      ],
      "metadata": {
        "id": "AJUBL_RcAx_z"
      }
    },
    {
      "cell_type": "code",
      "execution_count": 23,
      "metadata": {
        "id": "aKdCj14d5wJz"
      },
      "outputs": [],
      "source": [
        "import pickle\n",
        "import numpy as np\n",
        "import random\n",
        "import tensorflow as tf\n",
        "from tensorflow.keras.models import Model\n",
        "from tensorflow.keras.layers import Conv2D, BatchNormalization, DepthwiseConv2D, AveragePooling2D, Dropout, SeparableConv2D, LeakyReLU, Reshape, Flatten, Dense, Softmax, Input, Bidirectional, LSTM, Multiply, Concatenate, GlobalAveragePooling1D, GlobalAveragePooling2D, ELU\n",
        "from tensorflow.keras.constraints import max_norm\n",
        "import os\n",
        "from time import time"
      ]
    },
    {
      "cell_type": "code",
      "source": [
        "# Fixing seed for reproduction of results\n",
        "SEED = 42\n",
        "os.environ['PYTHONHASHSEED'] = str(SEED)\n",
        "os.environ['TF_DETERMINISTIC_OPS'] = '1'\n",
        "tf.random.set_seed(SEED)\n",
        "np.random.seed(SEED)\n",
        "random.seed(SEED)\n",
        "\n",
        "# GPU availability\n",
        "device_name = tf.test.gpu_device_name()\n",
        "if device_name != '/device:GPU:0':\n",
        "  raise SystemError('GPU device not found')\n",
        "print('Found GPU at: {}'.format(device_name))"
      ],
      "metadata": {
        "colab": {
          "base_uri": "https://localhost:8080/"
        },
        "id": "MxLgY09WcoO5",
        "outputId": "488266f1-0e7a-4872-e6eb-a96e486b43fd"
      },
      "execution_count": 5,
      "outputs": [
        {
          "output_type": "stream",
          "name": "stdout",
          "text": [
            "Found GPU at: /device:GPU:0\n"
          ]
        }
      ]
    },
    {
      "cell_type": "markdown",
      "source": [
        "# 1. Model Implementation"
      ],
      "metadata": {
        "id": "VkHpjatbA2BB"
      }
    },
    {
      "cell_type": "code",
      "source": [
        "class CNNBiLSTM(Model):\n",
        "  def __init__(self):\n",
        "    super(CNNBiLSTM, self).__init__()\n",
        "    self.reshape = Reshape((14, 512, 1), input_shape=(14, 512))\n",
        "    self.reshape2 = Reshape((512, 14), input_shape=(14, 512))\n",
        "    self.conv1 = Conv2D(8, (1, 64), padding='same', input_shape=(14, 512, 1), use_bias=False)\n",
        "    self.bn1 = BatchNormalization()\n",
        "    self.bn2 = BatchNormalization()\n",
        "    self.bn3 = BatchNormalization()\n",
        "    self.bn4 = BatchNormalization()\n",
        "    self.conv2 = DepthwiseConv2D((14, 1), use_bias=False, depth_multiplier=2, depthwise_constraint=max_norm(1.))\n",
        "    self.activation = ELU() # LeakyReLU()\n",
        "    self.pool1 = AveragePooling2D(1, 4)\n",
        "    self.dropout = Dropout(0.25)\n",
        "    self.conv3 = SeparableConv2D(16, (1, 16), use_bias=False, padding='same')\n",
        "    self.pool2 = AveragePooling2D(1, 8)\n",
        "    self.flatten = Flatten()\n",
        "    self.fc = Dense(1, activation='sigmoid')\n",
        "    self.bilstm = Bidirectional(LSTM(128, dropout=0.25, return_sequences=False), input_shape=(512, 14))\n",
        "    self.glu_fc = Dense(256)\n",
        "    self.glu_sig = Dense(256, activation='sigmoid')\n",
        "    self.mul = Multiply()\n",
        "    self.concat = Concatenate(axis=-1)\n",
        "    self.gap1d = GlobalAveragePooling1D()\n",
        "\n",
        "  def call(self, x):\n",
        "    c = self.reshape(x)\n",
        "    c = self.bn1(self.conv1(c))\n",
        "    c = self.dropout(self.pool1(self.activation(self.bn2(self.conv2(c)))))\n",
        "    c = self.flatten(self.dropout(self.pool2(self.activation(self.bn3(self.conv3(c))))))\n",
        "    l = self.reshape2(x)\n",
        "    l = self.bilstm(l)\n",
        "    lc = self.concat([l, c])\n",
        "    lc = self.glu_fc(lc) * self.glu_sig(lc)\n",
        "    lc = self.fc(self.dropout(self.activation(self.bn4(lc))))\n",
        "    return lc\n",
        "\n",
        "  def summary(self):\n",
        "    inputs = Input((14, 512))\n",
        "    Model(inputs, self.call(inputs)).summary()"
      ],
      "metadata": {
        "id": "zHtGaZF-LYAx"
      },
      "execution_count": 6,
      "outputs": []
    },
    {
      "cell_type": "code",
      "source": [
        "model = CNNBiLSTM()\n",
        "model.summary()"
      ],
      "metadata": {
        "colab": {
          "base_uri": "https://localhost:8080/"
        },
        "id": "ytB-c-fNTVUa",
        "outputId": "686717c9-7ad7-4c6e-d38e-66061915ed1b"
      },
      "execution_count": 8,
      "outputs": [
        {
          "output_type": "stream",
          "name": "stdout",
          "text": [
            "Model: \"model\"\n",
            "__________________________________________________________________________________________________\n",
            " Layer (type)                   Output Shape         Param #     Connected to                     \n",
            "==================================================================================================\n",
            " input_1 (InputLayer)           [(None, 14, 512)]    0           []                               \n",
            "                                                                                                  \n",
            " reshape (Reshape)              (None, 14, 512, 1)   0           ['input_1[0][0]']                \n",
            "                                                                                                  \n",
            " conv2d (Conv2D)                (None, 14, 512, 8)   512         ['reshape[0][0]']                \n",
            "                                                                                                  \n",
            " batch_normalization (BatchNorm  (None, 14, 512, 8)  32          ['conv2d[0][0]']                 \n",
            " alization)                                                                                       \n",
            "                                                                                                  \n",
            " depthwise_conv2d (DepthwiseCon  (None, 1, 512, 16)  224         ['batch_normalization[0][0]']    \n",
            " v2D)                                                                                             \n",
            "                                                                                                  \n",
            " batch_normalization_1 (BatchNo  (None, 1, 512, 16)  64          ['depthwise_conv2d[0][0]']       \n",
            " rmalization)                                                                                     \n",
            "                                                                                                  \n",
            " elu (ELU)                      multiple             0           ['batch_normalization_1[0][0]',  \n",
            "                                                                  'batch_normalization_2[0][0]',  \n",
            "                                                                  'batch_normalization_3[0][0]']  \n",
            "                                                                                                  \n",
            " average_pooling2d (AveragePool  (None, 1, 128, 16)  0           ['elu[0][0]']                    \n",
            " ing2D)                                                                                           \n",
            "                                                                                                  \n",
            " dropout (Dropout)              multiple             0           ['average_pooling2d[0][0]',      \n",
            "                                                                  'average_pooling2d_1[0][0]',    \n",
            "                                                                  'elu[2][0]']                    \n",
            "                                                                                                  \n",
            " separable_conv2d (SeparableCon  (None, 1, 128, 16)  512         ['dropout[0][0]']                \n",
            " v2D)                                                                                             \n",
            "                                                                                                  \n",
            " batch_normalization_2 (BatchNo  (None, 1, 128, 16)  64          ['separable_conv2d[0][0]']       \n",
            " rmalization)                                                                                     \n",
            "                                                                                                  \n",
            " average_pooling2d_1 (AveragePo  (None, 1, 16, 16)   0           ['elu[1][0]']                    \n",
            " oling2D)                                                                                         \n",
            "                                                                                                  \n",
            " reshape_1 (Reshape)            (None, 512, 14)      0           ['input_1[0][0]']                \n",
            "                                                                                                  \n",
            " bidirectional (Bidirectional)  (None, 256)          146432      ['reshape_1[0][0]']              \n",
            "                                                                                                  \n",
            " flatten (Flatten)              (None, 256)          0           ['dropout[1][0]']                \n",
            "                                                                                                  \n",
            " concatenate (Concatenate)      (None, 512)          0           ['bidirectional[0][0]',          \n",
            "                                                                  'flatten[0][0]']                \n",
            "                                                                                                  \n",
            " dense_1 (Dense)                (None, 256)          131328      ['concatenate[0][0]']            \n",
            "                                                                                                  \n",
            " dense_2 (Dense)                (None, 256)          131328      ['concatenate[0][0]']            \n",
            "                                                                                                  \n",
            " tf.math.multiply (TFOpLambda)  (None, 256)          0           ['dense_1[0][0]',                \n",
            "                                                                  'dense_2[0][0]']                \n",
            "                                                                                                  \n",
            " batch_normalization_3 (BatchNo  (None, 256)         1024        ['tf.math.multiply[0][0]']       \n",
            " rmalization)                                                                                     \n",
            "                                                                                                  \n",
            " dense (Dense)                  (None, 1)            257         ['dropout[2][0]']                \n",
            "                                                                                                  \n",
            "==================================================================================================\n",
            "Total params: 411,777\n",
            "Trainable params: 411,185\n",
            "Non-trainable params: 592\n",
            "__________________________________________________________________________________________________\n"
          ]
        }
      ]
    },
    {
      "cell_type": "markdown",
      "source": [
        "# 2. Training, Grid search, and Evaluation"
      ],
      "metadata": {
        "id": "FmIY_0GcYcpo"
      }
    },
    {
      "cell_type": "code",
      "source": [
        "with open('./dataset_sd.pkl', 'rb') as f:\n",
        "  data_cv = pickle.load(f)"
      ],
      "metadata": {
        "id": "hkI31gs4hj-4"
      },
      "execution_count": 11,
      "outputs": []
    },
    {
      "cell_type": "code",
      "source": [
        "class run(object):\n",
        "  def __init__(self, name, model, batch_size, lr, epoch, patience, verbose):\n",
        "    self.batch_size = batch_size\n",
        "    self.name = name\n",
        "    self.lr = lr\n",
        "    self.epoch = epoch\n",
        "    self.patience = patience\n",
        "    self.verbose = verbose\n",
        "    self.model = model\n",
        "    self.time_taken = None\n",
        "    self.model.compile(optimizer=tf.keras.optimizers.experimental.Adam(learning_rate=self.lr), loss=tf.keras.losses.BinaryCrossentropy(), metrics=['accuracy', tf.keras.metrics.AUC()])\n",
        "    self.callbacks = tf.keras.callbacks.EarlyStopping(monitor='val_loss', patience=self.patience, verbose=0, mode='auto', baseline=None, restore_best_weights=True)\n",
        "\n",
        "  def fit(self, X_train, y_train, X_val, y_val):\n",
        "    self.start_time = time()\n",
        "    self.model.fit(X_train, y_train, epochs=self.epoch, batch_size=self.batch_size, verbose=self.verbose, validation_data=(X_val, y_val), callbacks=[self.callbacks], shuffle=True)\n",
        "    self.time_taken = time() - self.start_time\n",
        "\n",
        "  def eval(self, X, y):\n",
        "    test_loss, test_acc, test_auc = self.model.evaluate(X, y, verbose=self.verbose)\n",
        "    print('Setting: model={}, batch_size={}, lr={}, epoch={}, patience={} || loss={}, acc={}, auc={} || training_time={} sec'.format(self.name, self.batch_size, self.lr, self.epoch, self.patience, test_loss, test_acc, test_auc, self.time_taken))"
      ],
      "metadata": {
        "id": "iF_L6rlgA8l6"
      },
      "execution_count": 10,
      "outputs": []
    },
    {
      "cell_type": "code",
      "source": [
        "class loocv_run(object):\n",
        "  def __init__(self, name, model, batch_size, lr, epoch, patience, verbose, data):\n",
        "    self.batch_size = batch_size\n",
        "    self.name = name\n",
        "    self.lr = lr\n",
        "    self.epoch = epoch\n",
        "    self.patience = patience\n",
        "    self.verbose = verbose\n",
        "    self.model = model\n",
        "    self.time_taken = None\n",
        "    # self.model.compile(optimizer=tf.keras.optimizers.experimental.Adam(learning_rate=self.lr), loss=tf.keras.losses.BinaryCrossentropy(), metrics=['accuracy', tf.keras.metrics.AUC()])\n",
        "    self.callbacks = tf.keras.callbacks.EarlyStopping(monitor='val_loss', patience=self.patience, verbose=0, mode='auto', baseline=None, restore_best_weights=True)\n",
        "    self.data = data\n",
        "    self.acc = 0\n",
        "    self.auc = 0\n",
        "\n",
        "  def _fit(self, X_train, y_train, X_test, y_test, subject):\n",
        "    model = self.model\n",
        "    model.compile(optimizer=tf.keras.optimizers.experimental.Adam(learning_rate=self.lr), loss=tf.keras.losses.BinaryCrossentropy(), metrics=['accuracy', tf.keras.metrics.AUC()])\n",
        "    self.start_time = time()\n",
        "    model.fit(X_train, y_train, epochs=self.epoch, batch_size=self.batch_size, verbose=self.verbose, validation_split=0.1, callbacks=[self.callbacks], shuffle=True)\n",
        "    self.time_taken = time() - self.start_time\n",
        "    test_loss, test_acc, test_auc = model.evaluate(X_test, y_test, verbose=self.verbose)\n",
        "    self.acc += test_acc\n",
        "    self.auc += test_auc\n",
        "    print('Setting: subject={}, batch_size={}, lr={}, epoch={}, patience={} || loss={}, acc={}, auc={} || training_time={} sec'.format(subject, self.batch_size, self.lr, self.epoch, self.patience, test_loss, test_acc, test_auc, self.time_taken))\n",
        "  \n",
        "  def loocv(self):\n",
        "    for k, v in self.data.items():\n",
        "      X_test, y_test = self.data[k]\n",
        "      X_train = None\n",
        "      y_train = None\n",
        "      cnt = 0\n",
        "      for key in self.data.keys():\n",
        "        if k != key:\n",
        "          cnt+=1\n",
        "          if cnt==1:\n",
        "            X_train = self.data[key][0]\n",
        "            y_train = self.data[key][1]\n",
        "          X_train = np.append(X_train, self.data[key][0], axis=0)\n",
        "          y_train = np.append(y_train, self.data[key][1], axis=0)\n",
        "      self._fit(X_train, y_train, X_test, y_test, k)\n",
        "      tf.keras.backend.clear_session()\n",
        "    print('Avg_ACC={}, Avg_AUC={}'.format(self.acc/25, self.auc/25))"
      ],
      "metadata": {
        "id": "6HiXtQatkDgs"
      },
      "execution_count": 9,
      "outputs": []
    },
    {
      "cell_type": "code",
      "source": [
        "r = loocv_run(name='CNNBiLSTM', model=CNNBiLSTM(), batch_size=16, lr=0.001, epoch=200, patience=50, verbose=0, data=data_cv)\n",
        "r.loocv()"
      ],
      "metadata": {
        "colab": {
          "base_uri": "https://localhost:8080/"
        },
        "id": "bcuZ2m2Cnr-T",
        "outputId": "d7a93a39-4aac-4d53-a806-88e435d0e828"
      },
      "execution_count": 19,
      "outputs": [
        {
          "output_type": "stream",
          "name": "stdout",
          "text": [
            "Setting: subject=Abhishek, batch_size=16, lr=0.001, epoch=200, patience=50 || loss=0.7219246625900269, acc=0.5, auc=0.4285714626312256 || training_time=115.27562761306763 sec\n",
            "Setting: subject=Ankur_sir, batch_size=16, lr=0.001, epoch=200, patience=50 || loss=0.6774824857711792, acc=0.6097561120986938, auc=0.648809552192688 || training_time=113.63859796524048 sec\n",
            "Setting: subject=Gautam, batch_size=16, lr=0.001, epoch=200, patience=50 || loss=0.5121483206748962, acc=0.773809552192688, auc=0.7819445133209229 || training_time=108.89583230018616 sec\n",
            "Setting: subject=Gautam_123, batch_size=16, lr=0.001, epoch=200, patience=50 || loss=0.3557807505130768, acc=0.9047619104385376, auc=0.9814815521240234 || training_time=116.42300510406494 sec\n",
            "Setting: subject=Girvar_yadav, batch_size=16, lr=0.001, epoch=200, patience=50 || loss=0.5465646982192993, acc=0.6904761791229248, auc=0.7941176295280457 || training_time=113.99435496330261 sec\n",
            "Setting: subject=Kishore_babu, batch_size=16, lr=0.001, epoch=200, patience=50 || loss=0.48491382598876953, acc=0.7857142686843872, auc=0.8232322931289673 || training_time=118.47169303894043 sec\n",
            "Setting: subject=mahendra, batch_size=16, lr=0.001, epoch=200, patience=50 || loss=0.36205944418907166, acc=0.8571428656578064, auc=0.9135802388191223 || training_time=115.87730765342712 sec\n",
            "Setting: subject=Mohit, batch_size=16, lr=0.001, epoch=200, patience=50 || loss=0.28446751832962036, acc=0.8809523582458496, auc=0.9545454382896423 || training_time=113.299560546875 sec\n",
            "Setting: subject=pawan_sahu, batch_size=16, lr=0.001, epoch=200, patience=50 || loss=0.3306058943271637, acc=0.8536585569381714, auc=0.9416667819023132 || training_time=115.21546173095703 sec\n",
            "Setting: subject=pradeep, batch_size=16, lr=0.001, epoch=200, patience=50 || loss=0.33430570363998413, acc=0.8333333134651184, auc=0.9329411387443542 || training_time=131.88832664489746 sec\n",
            "Setting: subject=Rajesh_el, batch_size=16, lr=0.001, epoch=200, patience=50 || loss=0.036153435707092285, acc=1.0, auc=1.0 || training_time=115.15657091140747 sec\n",
            "Setting: subject=rajkumar, batch_size=16, lr=0.001, epoch=200, patience=50 || loss=0.037584468722343445, acc=1.0, auc=0.9999998807907104 || training_time=114.89955830574036 sec\n",
            "Setting: subject=Ravi_baba, batch_size=16, lr=0.001, epoch=200, patience=50 || loss=0.36447209119796753, acc=0.8095238208770752, auc=0.9210526347160339 || training_time=189.41848278045654 sec\n",
            "Setting: subject=Ravi_ph, batch_size=16, lr=0.001, epoch=200, patience=50 || loss=0.013229713775217533, acc=1.0, auc=1.0 || training_time=186.76222109794617 sec\n",
            "Setting: subject=Rockysingh, batch_size=16, lr=0.001, epoch=200, patience=50 || loss=0.0012489584041759372, acc=1.0, auc=1.0 || training_time=114.75572395324707 sec\n",
            "Setting: subject=Rupak, batch_size=16, lr=0.001, epoch=200, patience=50 || loss=0.012240269221365452, acc=1.0, auc=1.0 || training_time=220.00611019134521 sec\n",
            "Setting: subject=Sachin, batch_size=16, lr=0.001, epoch=200, patience=50 || loss=9.987592056859285e-05, acc=1.0, auc=1.0 || training_time=116.1658444404602 sec\n",
            "Setting: subject=Sandeep, batch_size=16, lr=0.001, epoch=200, patience=50 || loss=0.05364532768726349, acc=0.976190447807312, auc=1.0 || training_time=238.79864525794983 sec\n",
            "Setting: subject=Soumendu, batch_size=16, lr=0.001, epoch=200, patience=50 || loss=0.0027856649830937386, acc=1.0, auc=1.0 || training_time=137.30533242225647 sec\n",
            "Setting: subject=Suraj_sir, batch_size=16, lr=0.001, epoch=200, patience=50 || loss=0.0017282376065850258, acc=1.0, auc=1.0 || training_time=115.32179307937622 sec\n",
            "Setting: subject=taufiq, batch_size=16, lr=0.001, epoch=200, patience=50 || loss=0.0023749899119138718, acc=1.0, auc=1.0 || training_time=189.86535263061523 sec\n",
            "Setting: subject=Veerpal, batch_size=16, lr=0.001, epoch=200, patience=50 || loss=0.000121075012430083, acc=1.0, auc=1.0 || training_time=184.16707706451416 sec\n",
            "Setting: subject=Vijay, batch_size=16, lr=0.001, epoch=200, patience=50 || loss=0.9447071552276611, acc=0.6428571343421936, auc=0.7870370149612427 || training_time=149.07193541526794 sec\n",
            "Setting: subject=Vipin_1, batch_size=16, lr=0.001, epoch=200, patience=50 || loss=2.4457218647003174, acc=0.5, auc=0.5317460298538208 || training_time=204.89161348342896 sec\n",
            "Setting: subject=Viraj_1, batch_size=16, lr=0.001, epoch=200, patience=50 || loss=1.4631708860397339, acc=0.5952380895614624, auc=0.6744868755340576 || training_time=125.35830616950989 sec\n",
            "Avg_ACC=0.8485365843772888, Avg_AUC=0.8846085214614868\n"
          ]
        }
      ]
    },
    {
      "cell_type": "markdown",
      "source": [
        "# 3. Baseline Classifier"
      ],
      "metadata": {
        "id": "JcscntQBWDf3"
      }
    },
    {
      "cell_type": "code",
      "source": [
        "class EEGNet(Model):\n",
        "  def __init__(self):\n",
        "    super(EEGNet, self).__init__()\n",
        "    self.reshape = Reshape((14, 512, 1), input_shape=(14, 512))\n",
        "    self.conv1 = Conv2D(8, (1, 64), padding='same', input_shape=(14, 512, 1), use_bias=False)\n",
        "    self.bn1 = BatchNormalization()\n",
        "    self.bn2 = BatchNormalization()\n",
        "    self.bn3 = BatchNormalization()\n",
        "    self.conv2 = DepthwiseConv2D((14, 1), use_bias=False, depth_multiplier=2, depthwise_constraint=max_norm(1.))\n",
        "    self.activation = ELU()\n",
        "    self.pool1 = AveragePooling2D(1, 4)\n",
        "    self.dropout = Dropout(0.25)\n",
        "    self.conv3 = SeparableConv2D(16, (1, 16), use_bias=False, padding='same')\n",
        "    self.pool2 = AveragePooling2D(1, 8)\n",
        "    self.flatten = Flatten()\n",
        "    self.fc = Dense(1, activation='sigmoid')\n",
        "    # self.softmax = Softmax()\n",
        "\n",
        "  def call(self, x):\n",
        "    x = self.reshape(x)\n",
        "    x = self.bn1(self.conv1(x))\n",
        "    x = self.dropout(self.pool1(self.activation(self.bn2(self.conv2(x)))))\n",
        "    x = self.dropout(self.pool2(self.activation(self.bn3(self.conv3(x)))))\n",
        "    x = self.fc(self.flatten(x))\n",
        "    return x\n",
        "\n",
        "  def summary(self):\n",
        "    inputs = Input((14, 512))\n",
        "    Model(inputs, self.call(inputs)).summary()"
      ],
      "metadata": {
        "id": "J_BHvtxlWCyA"
      },
      "execution_count": 7,
      "outputs": []
    },
    {
      "cell_type": "code",
      "source": [
        "EEGNet().summary()"
      ],
      "metadata": {
        "colab": {
          "base_uri": "https://localhost:8080/"
        },
        "id": "xSI36PnSkWsZ",
        "outputId": "c1280e09-bbd5-419f-ad6a-c98bd0a76759"
      },
      "execution_count": null,
      "outputs": [
        {
          "output_type": "stream",
          "name": "stdout",
          "text": [
            "Model: \"model\"\n",
            "__________________________________________________________________________________________________\n",
            " Layer (type)                   Output Shape         Param #     Connected to                     \n",
            "==================================================================================================\n",
            " input_1 (InputLayer)           [(None, 14, 512)]    0           []                               \n",
            "                                                                                                  \n",
            " reshape_3 (Reshape)            (None, 14, 512, 1)   0           ['input_1[0][0]']                \n",
            "                                                                                                  \n",
            " conv2d_3 (Conv2D)              (None, 14, 512, 8)   512         ['reshape_3[0][0]']              \n",
            "                                                                                                  \n",
            " batch_normalization_9 (BatchNo  (None, 14, 512, 8)  32          ['conv2d_3[0][0]']               \n",
            " rmalization)                                                                                     \n",
            "                                                                                                  \n",
            " depthwise_conv2d_3 (DepthwiseC  (None, 1, 512, 16)  224         ['batch_normalization_9[0][0]']  \n",
            " onv2D)                                                                                           \n",
            "                                                                                                  \n",
            " batch_normalization_10 (BatchN  (None, 1, 512, 16)  64          ['depthwise_conv2d_3[0][0]']     \n",
            " ormalization)                                                                                    \n",
            "                                                                                                  \n",
            " leaky_re_lu_3 (LeakyReLU)      multiple             0           ['batch_normalization_10[0][0]', \n",
            "                                                                  'batch_normalization_11[0][0]'] \n",
            "                                                                                                  \n",
            " average_pooling2d_6 (AveragePo  (None, 1, 128, 16)  0           ['leaky_re_lu_3[0][0]']          \n",
            " oling2D)                                                                                         \n",
            "                                                                                                  \n",
            " dropout_3 (Dropout)            multiple             0           ['average_pooling2d_6[0][0]',    \n",
            "                                                                  'average_pooling2d_7[0][0]']    \n",
            "                                                                                                  \n",
            " separable_conv2d_3 (SeparableC  (None, 1, 128, 16)  512         ['dropout_3[0][0]']              \n",
            " onv2D)                                                                                           \n",
            "                                                                                                  \n",
            " batch_normalization_11 (BatchN  (None, 1, 128, 16)  64          ['separable_conv2d_3[0][0]']     \n",
            " ormalization)                                                                                    \n",
            "                                                                                                  \n",
            " average_pooling2d_7 (AveragePo  (None, 1, 16, 16)   0           ['leaky_re_lu_3[1][0]']          \n",
            " oling2D)                                                                                         \n",
            "                                                                                                  \n",
            " flatten_3 (Flatten)            (None, 256)          0           ['dropout_3[1][0]']              \n",
            "                                                                                                  \n",
            " dense_3 (Dense)                (None, 1)            257         ['flatten_3[0][0]']              \n",
            "                                                                                                  \n",
            "==================================================================================================\n",
            "Total params: 1,665\n",
            "Trainable params: 1,585\n",
            "Non-trainable params: 80\n",
            "__________________________________________________________________________________________________\n"
          ]
        }
      ]
    },
    {
      "cell_type": "code",
      "source": [
        "r = loocv_run(name='EEGNet', model=EEGNet(), batch_size=16, lr=0.001, epoch=200, patience=50, verbose=0, data=data_cv)\n",
        "r.loocv()"
      ],
      "metadata": {
        "colab": {
          "base_uri": "https://localhost:8080/"
        },
        "id": "fbUp2pRXWoB5",
        "outputId": "df3c46e8-2247-48c8-fba9-553f37331403"
      },
      "execution_count": 12,
      "outputs": [
        {
          "output_type": "stream",
          "name": "stdout",
          "text": [
            "Setting: subject=Abhishek, batch_size=16, lr=0.001, epoch=200, patience=50 || loss=0.6855916380882263, acc=0.5714285969734192, auc=0.5748299360275269 || training_time=28.89529514312744 sec\n",
            "Setting: subject=Ankur_sir, batch_size=16, lr=0.001, epoch=200, patience=50 || loss=0.6316110491752625, acc=0.707317054271698, auc=0.7690476179122925 || training_time=19.704755783081055 sec\n",
            "Setting: subject=Gautam, batch_size=16, lr=0.001, epoch=200, patience=50 || loss=0.626918613910675, acc=0.6785714030265808, auc=0.6975694894790649 || training_time=18.82360076904297 sec\n",
            "Setting: subject=Gautam_123, batch_size=16, lr=0.001, epoch=200, patience=50 || loss=0.6182053685188293, acc=0.5952380895614624, auc=0.7246913909912109 || training_time=19.84825825691223 sec\n",
            "Setting: subject=Girvar_yadav, batch_size=16, lr=0.001, epoch=200, patience=50 || loss=0.5895609259605408, acc=0.738095223903656, auc=0.7964706420898438 || training_time=19.392816066741943 sec\n",
            "Setting: subject=Kishore_babu, batch_size=16, lr=0.001, epoch=200, patience=50 || loss=0.6698966026306152, acc=0.6190476417541504, auc=0.7794613242149353 || training_time=19.654016971588135 sec\n",
            "Setting: subject=mahendra, batch_size=16, lr=0.001, epoch=200, patience=50 || loss=0.6359736323356628, acc=0.6666666865348816, auc=0.7382715344429016 || training_time=19.608464241027832 sec\n",
            "Setting: subject=Mohit, batch_size=16, lr=0.001, epoch=200, patience=50 || loss=0.5995001196861267, acc=0.7857142686843872, auc=0.730681836605072 || training_time=21.075237274169922 sec\n",
            "Setting: subject=pawan_sahu, batch_size=16, lr=0.001, epoch=200, patience=50 || loss=0.473872572183609, acc=0.8048780560493469, auc=0.8595237731933594 || training_time=19.416992664337158 sec\n",
            "Setting: subject=pradeep, batch_size=16, lr=0.001, epoch=200, patience=50 || loss=0.5491594672203064, acc=0.7857142686843872, auc=0.7976471185684204 || training_time=21.281615495681763 sec\n",
            "Setting: subject=Rajesh_el, batch_size=16, lr=0.001, epoch=200, patience=50 || loss=0.44493594765663147, acc=0.761904776096344, auc=0.8668981790542603 || training_time=19.834001064300537 sec\n",
            "Setting: subject=rajkumar, batch_size=16, lr=0.001, epoch=200, patience=50 || loss=0.36114245653152466, acc=0.9047619104385376, auc=0.9702516794204712 || training_time=19.718712329864502 sec\n",
            "Setting: subject=Ravi_baba, batch_size=16, lr=0.001, epoch=200, patience=50 || loss=0.4114067554473877, acc=0.7857142686843872, auc=0.9016017913818359 || training_time=19.496118545532227 sec\n",
            "Setting: subject=Ravi_ph, batch_size=16, lr=0.001, epoch=200, patience=50 || loss=0.34633779525756836, acc=0.8333333134651184, auc=0.9340175986289978 || training_time=19.736563444137573 sec\n",
            "Setting: subject=Rockysingh, batch_size=16, lr=0.001, epoch=200, patience=50 || loss=0.3067220449447632, acc=0.9024389982223511, auc=0.9602272510528564 || training_time=19.838739156723022 sec\n",
            "Setting: subject=Rupak, batch_size=16, lr=0.001, epoch=200, patience=50 || loss=0.33703354001045227, acc=0.8809523582458496, auc=0.944444477558136 || training_time=19.589291095733643 sec\n",
            "Setting: subject=Sachin, batch_size=16, lr=0.001, epoch=200, patience=50 || loss=0.3885457515716553, acc=0.8095238208770752, auc=0.8917647004127502 || training_time=19.74455714225769 sec\n",
            "Setting: subject=Sandeep, batch_size=16, lr=0.001, epoch=200, patience=50 || loss=0.42766690254211426, acc=0.761904776096344, auc=0.9166666269302368 || training_time=19.47739005088806 sec\n",
            "Setting: subject=Soumendu, batch_size=16, lr=0.001, epoch=200, patience=50 || loss=0.3544398844242096, acc=0.8571428656578064, auc=0.9199084043502808 || training_time=20.158721208572388 sec\n",
            "Setting: subject=Suraj_sir, batch_size=16, lr=0.001, epoch=200, patience=50 || loss=0.3178930878639221, acc=0.8809523582458496, auc=0.9749999642372131 || training_time=19.429867267608643 sec\n",
            "Setting: subject=taufiq, batch_size=16, lr=0.001, epoch=200, patience=50 || loss=0.39474058151245117, acc=0.7560975551605225, auc=0.9095237851142883 || training_time=19.463985443115234 sec\n",
            "Setting: subject=Veerpal, batch_size=16, lr=0.001, epoch=200, patience=50 || loss=0.28870826959609985, acc=0.9024389982223511, auc=0.9516806602478027 || training_time=19.64822506904602 sec\n",
            "Setting: subject=Vijay, batch_size=16, lr=0.001, epoch=200, patience=50 || loss=0.8225990533828735, acc=0.6666666865348816, auc=0.642361044883728 || training_time=19.782296895980835 sec\n",
            "Setting: subject=Vipin_1, batch_size=16, lr=0.001, epoch=200, patience=50 || loss=1.3779889345169067, acc=0.4761904776096344, auc=0.5147392153739929 || training_time=19.826177835464478 sec\n",
            "Setting: subject=Viraj_1, batch_size=16, lr=0.001, epoch=200, patience=50 || loss=0.9738922119140625, acc=0.5476190447807312, auc=0.6158358454704285 || training_time=24.778706073760986 sec\n",
            "Avg_ACC=0.7472125399112701, Avg_AUC=0.8153246355056762\n"
          ]
        }
      ]
    },
    {
      "cell_type": "code",
      "source": [
        "class BiLSTM(Model):\n",
        "  def __init__(self):\n",
        "    super(BiLSTM, self).__init__()\n",
        "    self.reshape = Reshape((512, 14), input_shape=(14, 512))\n",
        "    self.bilstm = Bidirectional(LSTM(128), input_shape=(512, 14))\n",
        "    self.flatten = Flatten()\n",
        "    # self.gap1d = # GlobalAveragePooling1D()\n",
        "    self.fc = Dense(1, activation='sigmoid')\n",
        "    # self.softmax = Softmax()\n",
        "\n",
        "  def call(self, x):\n",
        "    x = self.reshape(x)\n",
        "    x = self.bilstm(x)\n",
        "    x = self.fc(self.flatten(x))\n",
        "    return x\n",
        "\n",
        "  def summary(self):\n",
        "    inputs = Input((14, 512))\n",
        "    Model(inputs, self.call(inputs)).summary()"
      ],
      "metadata": {
        "id": "Yg1Y28vin3HR"
      },
      "execution_count": 13,
      "outputs": []
    },
    {
      "cell_type": "code",
      "source": [
        "r = loocv_run(name='BiLSTM', model=BiLSTM(), batch_size=16, lr=0.001, epoch=200, patience=50, verbose=0, data=data_cv)\n",
        "r.loocv()"
      ],
      "metadata": {
        "colab": {
          "base_uri": "https://localhost:8080/"
        },
        "id": "UzY-x1gToqx3",
        "outputId": "d8b1cb1c-1f5d-46e1-e5ed-277606f51895"
      },
      "execution_count": 14,
      "outputs": [
        {
          "output_type": "stream",
          "name": "stdout",
          "text": [
            "Setting: subject=Abhishek, batch_size=16, lr=0.001, epoch=200, patience=50 || loss=0.677507758140564, acc=0.5714285969734192, auc=0.6054421663284302 || training_time=112.2715539932251 sec\n",
            "Setting: subject=Ankur_sir, batch_size=16, lr=0.001, epoch=200, patience=50 || loss=0.5106298327445984, acc=0.8048780560493469, auc=0.8428571224212646 || training_time=99.53924322128296 sec\n",
            "Setting: subject=Gautam, batch_size=16, lr=0.001, epoch=200, patience=50 || loss=0.4083179831504822, acc=0.8333333134651184, auc=0.8694444894790649 || training_time=95.94277167320251 sec\n",
            "Setting: subject=Gautam_123, batch_size=16, lr=0.001, epoch=200, patience=50 || loss=0.3321716785430908, acc=0.8809523582458496, auc=0.9518517851829529 || training_time=101.48081588745117 sec\n",
            "Setting: subject=Girvar_yadav, batch_size=16, lr=0.001, epoch=200, patience=50 || loss=0.6405085921287537, acc=0.6666666865348816, auc=0.7341176271438599 || training_time=146.0391447544098 sec\n",
            "Setting: subject=Kishore_babu, batch_size=16, lr=0.001, epoch=200, patience=50 || loss=0.6219752430915833, acc=0.6428571343421936, auc=0.7222222089767456 || training_time=184.4713156223297 sec\n",
            "Setting: subject=mahendra, batch_size=16, lr=0.001, epoch=200, patience=50 || loss=0.7155051231384277, acc=0.5952380895614624, auc=0.869135856628418 || training_time=161.44823455810547 sec\n",
            "Setting: subject=Mohit, batch_size=16, lr=0.001, epoch=200, patience=50 || loss=0.6131483912467957, acc=0.6428571343421936, auc=0.7829545140266418 || training_time=99.34973740577698 sec\n",
            "Setting: subject=pawan_sahu, batch_size=16, lr=0.001, epoch=200, patience=50 || loss=0.35333317518234253, acc=0.8780487775802612, auc=0.9357142448425293 || training_time=99.04757761955261 sec\n",
            "Setting: subject=pradeep, batch_size=16, lr=0.001, epoch=200, patience=50 || loss=0.25170740485191345, acc=0.9047619104385376, auc=0.9552940726280212 || training_time=98.78218817710876 sec\n",
            "Setting: subject=Rajesh_el, batch_size=16, lr=0.001, epoch=200, patience=50 || loss=0.6305798888206482, acc=0.7142857313156128, auc=0.7743056416511536 || training_time=195.64942526817322 sec\n",
            "Setting: subject=rajkumar, batch_size=16, lr=0.001, epoch=200, patience=50 || loss=0.33646902441978455, acc=0.8571428656578064, auc=0.9439359307289124 || training_time=99.12171602249146 sec\n",
            "Setting: subject=Ravi_baba, batch_size=16, lr=0.001, epoch=200, patience=50 || loss=0.34293776750564575, acc=0.7857142686843872, auc=0.9221968054771423 || training_time=99.40222835540771 sec\n",
            "Setting: subject=Ravi_ph, batch_size=16, lr=0.001, epoch=200, patience=50 || loss=0.1548449546098709, acc=0.9285714030265808, auc=1.0 || training_time=192.5815761089325 sec\n",
            "Setting: subject=Rockysingh, batch_size=16, lr=0.001, epoch=200, patience=50 || loss=0.11880352348089218, acc=0.9512194991111755, auc=0.9848484396934509 || training_time=100.425057888031 sec\n",
            "Setting: subject=Rupak, batch_size=16, lr=0.001, epoch=200, patience=50 || loss=0.07129129022359848, acc=0.976190447807312, auc=1.0 || training_time=103.52357721328735 sec\n",
            "Setting: subject=Sachin, batch_size=16, lr=0.001, epoch=200, patience=50 || loss=0.02857029065489769, acc=1.0, auc=1.0 || training_time=99.34931254386902 sec\n",
            "Setting: subject=Sandeep, batch_size=16, lr=0.001, epoch=200, patience=50 || loss=0.014809814281761646, acc=1.0, auc=1.0 || training_time=99.30503869056702 sec\n",
            "Setting: subject=Soumendu, batch_size=16, lr=0.001, epoch=200, patience=50 || loss=0.006836844142526388, acc=1.0, auc=0.9999999403953552 || training_time=100.85545516014099 sec\n",
            "Setting: subject=Suraj_sir, batch_size=16, lr=0.001, epoch=200, patience=50 || loss=0.00936896912753582, acc=1.0, auc=1.0 || training_time=109.2223916053772 sec\n",
            "Setting: subject=taufiq, batch_size=16, lr=0.001, epoch=200, patience=50 || loss=0.007059427443891764, acc=1.0, auc=1.0 || training_time=102.78556251525879 sec\n",
            "Setting: subject=Veerpal, batch_size=16, lr=0.001, epoch=200, patience=50 || loss=0.002117276657372713, acc=1.0, auc=1.0 || training_time=103.42683982849121 sec\n",
            "Setting: subject=Vijay, batch_size=16, lr=0.001, epoch=200, patience=50 || loss=1.0360078811645508, acc=0.7142857313156128, auc=0.7685184478759766 || training_time=106.2698724269867 sec\n",
            "Setting: subject=Vipin_1, batch_size=16, lr=0.001, epoch=200, patience=50 || loss=3.330203056335449, acc=0.4523809552192688, auc=0.48866209387779236 || training_time=98.68013787269592 sec\n",
            "Setting: subject=Viraj_1, batch_size=16, lr=0.001, epoch=200, patience=50 || loss=2.2635979652404785, acc=0.5952380895614624, auc=0.5850440263748169 || training_time=102.75675630569458 sec\n",
            "Avg_ACC=0.8158420419692993, Avg_AUC=0.8694618165493011\n"
          ]
        }
      ]
    },
    {
      "cell_type": "code",
      "source": [
        "class lstm(Model):\n",
        "  def __init__(self):\n",
        "    super(lstm, self).__init__()\n",
        "    self.reshape = Reshape((512, 14), input_shape=(14, 512))\n",
        "    self.lstm = LSTM(128)\n",
        "    self.flatten = Flatten()\n",
        "    # self.gap1d = # GlobalAveragePooling1D()\n",
        "    self.fc = Dense(1, activation='sigmoid')\n",
        "    # self.softmax = Softmax()\n",
        "\n",
        "  def call(self, x):\n",
        "    x = self.reshape(x)\n",
        "    x = self.lstm(x)\n",
        "    x = self.fc(self.flatten(x))\n",
        "    return x\n",
        "\n",
        "  def summary(self):\n",
        "    inputs = Input((14, 512))\n",
        "    Model(inputs, self.call(inputs)).summary()"
      ],
      "metadata": {
        "id": "wEFiKSSCm7fO"
      },
      "execution_count": 24,
      "outputs": []
    },
    {
      "cell_type": "code",
      "source": [
        "r = loocv_run(name='LSTM', model=lstm(), batch_size=16, lr=0.001, epoch=200, patience=50, verbose=0, data=data_cv)\n",
        "r.loocv()"
      ],
      "metadata": {
        "colab": {
          "base_uri": "https://localhost:8080/"
        },
        "id": "8kXAT33WnFfi",
        "outputId": "c0bba563-04d5-43d2-b720-852f35b9e915"
      },
      "execution_count": 25,
      "outputs": [
        {
          "output_type": "stream",
          "name": "stdout",
          "text": [
            "Setting: subject=Abhishek, batch_size=16, lr=0.001, epoch=200, patience=50 || loss=0.611602783203125, acc=0.7142857313156128, auc=0.761904776096344 || training_time=63.45330619812012 sec\n",
            "Setting: subject=Ankur_sir, batch_size=16, lr=0.001, epoch=200, patience=50 || loss=0.6292135119438171, acc=0.6585366129875183, auc=0.7321428060531616 || training_time=60.848843812942505 sec\n",
            "Setting: subject=Gautam, batch_size=16, lr=0.001, epoch=200, patience=50 || loss=0.3814341723918915, acc=0.8571428656578064, auc=0.9277777671813965 || training_time=53.92619466781616 sec\n",
            "Setting: subject=Gautam_123, batch_size=16, lr=0.001, epoch=200, patience=50 || loss=0.363726943731308, acc=0.8333333134651184, auc=0.9358024001121521 || training_time=57.29503631591797 sec\n",
            "Setting: subject=Girvar_yadav, batch_size=16, lr=0.001, epoch=200, patience=50 || loss=0.5854266881942749, acc=0.6428571343421936, auc=0.774117648601532 || training_time=57.5116662979126 sec\n",
            "Setting: subject=Kishore_babu, batch_size=16, lr=0.001, epoch=200, patience=50 || loss=0.298316091299057, acc=0.8571428656578064, auc=0.9292930364608765 || training_time=56.10802698135376 sec\n",
            "Setting: subject=mahendra, batch_size=16, lr=0.001, epoch=200, patience=50 || loss=0.7781996130943298, acc=0.5, auc=0.8185184597969055 || training_time=91.2224485874176 sec\n",
            "Setting: subject=Mohit, batch_size=16, lr=0.001, epoch=200, patience=50 || loss=0.7654226422309875, acc=0.6190476417541504, auc=0.7238637208938599 || training_time=59.47650194168091 sec\n",
            "Setting: subject=pawan_sahu, batch_size=16, lr=0.001, epoch=200, patience=50 || loss=0.671565592288971, acc=0.5853658318519592, auc=0.6940476298332214 || training_time=132.0546953678131 sec\n",
            "Setting: subject=pradeep, batch_size=16, lr=0.001, epoch=200, patience=50 || loss=0.6665686368942261, acc=0.6428571343421936, auc=0.5894118547439575 || training_time=88.17710638046265 sec\n",
            "Setting: subject=Rajesh_el, batch_size=16, lr=0.001, epoch=200, patience=50 || loss=0.6071695685386658, acc=0.6666666865348816, auc=0.767361044883728 || training_time=57.322983503341675 sec\n",
            "Setting: subject=rajkumar, batch_size=16, lr=0.001, epoch=200, patience=50 || loss=0.5725325345993042, acc=0.6666666865348816, auc=0.7734553217887878 || training_time=56.222450494766235 sec\n",
            "Setting: subject=Ravi_baba, batch_size=16, lr=0.001, epoch=200, patience=50 || loss=0.6230717301368713, acc=0.5952380895614624, auc=0.6773455739021301 || training_time=57.473416328430176 sec\n",
            "Setting: subject=Ravi_ph, batch_size=16, lr=0.001, epoch=200, patience=50 || loss=0.35139426589012146, acc=0.8571428656578064, auc=0.8973606824874878 || training_time=55.79055881500244 sec\n",
            "Setting: subject=Rockysingh, batch_size=16, lr=0.001, epoch=200, patience=50 || loss=0.39868244528770447, acc=0.8780487775802612, auc=0.8409090638160706 || training_time=55.6957573890686 sec\n",
            "Setting: subject=Rupak, batch_size=16, lr=0.001, epoch=200, patience=50 || loss=0.3282240331172943, acc=0.8333333134651184, auc=0.9907407164573669 || training_time=55.611719846725464 sec\n",
            "Setting: subject=Sachin, batch_size=16, lr=0.001, epoch=200, patience=50 || loss=0.6061984300613403, acc=0.6428571343421936, auc=0.7400000095367432 || training_time=73.82173681259155 sec\n",
            "Setting: subject=Sandeep, batch_size=16, lr=0.001, epoch=200, patience=50 || loss=0.5918968915939331, acc=0.761904776096344, auc=0.9016203284263611 || training_time=60.91943287849426 sec\n",
            "Setting: subject=Soumendu, batch_size=16, lr=0.001, epoch=200, patience=50 || loss=0.5582935810089111, acc=0.7142857313156128, auc=0.8592678308486938 || training_time=107.83192753791809 sec\n",
            "Setting: subject=Suraj_sir, batch_size=16, lr=0.001, epoch=200, patience=50 || loss=0.02400747686624527, acc=1.0, auc=1.0 || training_time=56.24923849105835 sec\n",
            "Setting: subject=taufiq, batch_size=16, lr=0.001, epoch=200, patience=50 || loss=0.08320507407188416, acc=0.9756097793579102, auc=1.0 || training_time=56.56443500518799 sec\n",
            "Setting: subject=Veerpal, batch_size=16, lr=0.001, epoch=200, patience=50 || loss=0.0050661684945225716, acc=1.0, auc=1.0 || training_time=57.936439752578735 sec\n",
            "Setting: subject=Vijay, batch_size=16, lr=0.001, epoch=200, patience=50 || loss=0.9869472980499268, acc=0.5952380895614624, auc=0.5949074029922485 || training_time=96.91090774536133 sec\n",
            "Setting: subject=Vipin_1, batch_size=16, lr=0.001, epoch=200, patience=50 || loss=1.011066198348999, acc=0.5476190447807312, auc=0.5464852452278137 || training_time=57.00559377670288 sec\n",
            "Setting: subject=Viraj_1, batch_size=16, lr=0.001, epoch=200, patience=50 || loss=1.2072404623031616, acc=0.6190476417541504, auc=0.5645161867141724 || training_time=57.5280487537384 sec\n",
            "Avg_ACC=0.730569109916687, Avg_AUC=0.8016339802742004\n"
          ]
        }
      ]
    },
    {
      "cell_type": "code",
      "source": [
        "from sklearn.metrics import accuracy_score, roc_auc_score\n",
        "from sklearn.svm import SVC\n",
        "from sklearn.ensemble import RandomForestClassifier\n",
        "from xgboost.sklearn import XGBClassifier\n",
        "from sklearn.linear_model import LogisticRegression\n",
        "from sklearn.discriminant_analysis import LinearDiscriminantAnalysis\n",
        "from sklearn.neighbors import KNeighborsClassifier\n",
        "\n",
        "def ml_run(name, model, X_train, y_train, X_test, y_test):\n",
        "  model.fit(X_train, y_train)\n",
        "  y_pred = model.predict(X_test)\n",
        "  acc = accuracy_score(y_test, y_pred)\n",
        "  AUC = roc_auc_score(y_test, y_pred)\n",
        "  print(\"**Subject: {} || Acc: {}, AUC: {}\".format(name, acc, AUC))\n",
        "  return acc, AUC\n",
        "\n",
        "def ml_cv_run(name, model, data):\n",
        "  acc = 0\n",
        "  auc = 0\n",
        "  for k, v in data.items():\n",
        "        X_test, y_test = data[k]\n",
        "        X_train = None\n",
        "        y_train = None\n",
        "        cnt = 0\n",
        "        for key in data.keys():\n",
        "          if k != key:\n",
        "            cnt+=1\n",
        "            if cnt==1:\n",
        "              X_train = data[key][0]\n",
        "              y_train = data[key][1]\n",
        "            X_train = np.append(X_train, data[key][0], axis=0)\n",
        "            y_train = np.append(y_train, data[key][1], axis=0)\n",
        "        m = model\n",
        "        Acc, AUC = ml_run(k, m, X_train.reshape(X_train.shape[0], -1), y_train.reshape(y_train.shape[0], -1), X_test.reshape(X_test.shape[0], -1), y_test.reshape(y_test.shape[0], -1))\n",
        "  print('Avg_ACC={}, Avg_AUC={}'.format(acc/25, auc/25))"
      ],
      "metadata": {
        "id": "H8HvPf2JY1ew"
      },
      "execution_count": 28,
      "outputs": []
    },
    {
      "cell_type": "code",
      "source": [
        "# SVM\n",
        "ml_cv_run('SVM', SVC(), data_cv)"
      ],
      "metadata": {
        "colab": {
          "base_uri": "https://localhost:8080/"
        },
        "id": "2YhLB7X5vRu9",
        "outputId": "3eb3dd7f-8379-43ef-e056-c95bca87cf52"
      },
      "execution_count": 31,
      "outputs": [
        {
          "output_type": "stream",
          "name": "stderr",
          "text": [
            "/usr/local/lib/python3.10/dist-packages/sklearn/utils/validation.py:1143: DataConversionWarning: A column-vector y was passed when a 1d array was expected. Please change the shape of y to (n_samples, ), for example using ravel().\n",
            "  y = column_or_1d(y, warn=True)\n"
          ]
        },
        {
          "output_type": "stream",
          "name": "stdout",
          "text": [
            "**Subject: Abhishek || Acc: 0.5476190476190477, AUC: 0.5476190476190477\n"
          ]
        },
        {
          "output_type": "stream",
          "name": "stderr",
          "text": [
            "/usr/local/lib/python3.10/dist-packages/sklearn/utils/validation.py:1143: DataConversionWarning: A column-vector y was passed when a 1d array was expected. Please change the shape of y to (n_samples, ), for example using ravel().\n",
            "  y = column_or_1d(y, warn=True)\n"
          ]
        },
        {
          "output_type": "stream",
          "name": "stdout",
          "text": [
            "**Subject: Ankur_sir || Acc: 0.5609756097560976, AUC: 0.55\n"
          ]
        },
        {
          "output_type": "stream",
          "name": "stderr",
          "text": [
            "/usr/local/lib/python3.10/dist-packages/sklearn/utils/validation.py:1143: DataConversionWarning: A column-vector y was passed when a 1d array was expected. Please change the shape of y to (n_samples, ), for example using ravel().\n",
            "  y = column_or_1d(y, warn=True)\n"
          ]
        },
        {
          "output_type": "stream",
          "name": "stdout",
          "text": [
            "**Subject: Gautam || Acc: 0.7142857142857143, AUC: 0.6124999999999999\n"
          ]
        },
        {
          "output_type": "stream",
          "name": "stderr",
          "text": [
            "/usr/local/lib/python3.10/dist-packages/sklearn/utils/validation.py:1143: DataConversionWarning: A column-vector y was passed when a 1d array was expected. Please change the shape of y to (n_samples, ), for example using ravel().\n",
            "  y = column_or_1d(y, warn=True)\n"
          ]
        },
        {
          "output_type": "stream",
          "name": "stdout",
          "text": [
            "**Subject: Gautam_123 || Acc: 0.8809523809523809, AUC: 0.8333333333333333\n"
          ]
        },
        {
          "output_type": "stream",
          "name": "stderr",
          "text": [
            "/usr/local/lib/python3.10/dist-packages/sklearn/utils/validation.py:1143: DataConversionWarning: A column-vector y was passed when a 1d array was expected. Please change the shape of y to (n_samples, ), for example using ravel().\n",
            "  y = column_or_1d(y, warn=True)\n"
          ]
        },
        {
          "output_type": "stream",
          "name": "stdout",
          "text": [
            "**Subject: Girvar_yadav || Acc: 0.5714285714285714, AUC: 0.48\n"
          ]
        },
        {
          "output_type": "stream",
          "name": "stderr",
          "text": [
            "/usr/local/lib/python3.10/dist-packages/sklearn/utils/validation.py:1143: DataConversionWarning: A column-vector y was passed when a 1d array was expected. Please change the shape of y to (n_samples, ), for example using ravel().\n",
            "  y = column_or_1d(y, warn=True)\n"
          ]
        },
        {
          "output_type": "stream",
          "name": "stdout",
          "text": [
            "**Subject: Kishore_babu || Acc: 0.2619047619047619, AUC: 0.5303030303030303\n"
          ]
        },
        {
          "output_type": "stream",
          "name": "stderr",
          "text": [
            "/usr/local/lib/python3.10/dist-packages/sklearn/utils/validation.py:1143: DataConversionWarning: A column-vector y was passed when a 1d array was expected. Please change the shape of y to (n_samples, ), for example using ravel().\n",
            "  y = column_or_1d(y, warn=True)\n"
          ]
        },
        {
          "output_type": "stream",
          "name": "stdout",
          "text": [
            "**Subject: mahendra || Acc: 0.35714285714285715, AUC: 0.48518518518518516\n"
          ]
        },
        {
          "output_type": "stream",
          "name": "stderr",
          "text": [
            "/usr/local/lib/python3.10/dist-packages/sklearn/utils/validation.py:1143: DataConversionWarning: A column-vector y was passed when a 1d array was expected. Please change the shape of y to (n_samples, ), for example using ravel().\n",
            "  y = column_or_1d(y, warn=True)\n"
          ]
        },
        {
          "output_type": "stream",
          "name": "stdout",
          "text": [
            "**Subject: Mohit || Acc: 0.5, AUC: 0.4772727272727273\n"
          ]
        },
        {
          "output_type": "stream",
          "name": "stderr",
          "text": [
            "/usr/local/lib/python3.10/dist-packages/sklearn/utils/validation.py:1143: DataConversionWarning: A column-vector y was passed when a 1d array was expected. Please change the shape of y to (n_samples, ), for example using ravel().\n",
            "  y = column_or_1d(y, warn=True)\n"
          ]
        },
        {
          "output_type": "stream",
          "name": "stdout",
          "text": [
            "**Subject: pawan_sahu || Acc: 0.4878048780487805, AUC: 0.4785714285714286\n"
          ]
        },
        {
          "output_type": "stream",
          "name": "stderr",
          "text": [
            "/usr/local/lib/python3.10/dist-packages/sklearn/utils/validation.py:1143: DataConversionWarning: A column-vector y was passed when a 1d array was expected. Please change the shape of y to (n_samples, ), for example using ravel().\n",
            "  y = column_or_1d(y, warn=True)\n"
          ]
        },
        {
          "output_type": "stream",
          "name": "stdout",
          "text": [
            "**Subject: pradeep || Acc: 0.6428571428571429, AUC: 0.5588235294117647\n"
          ]
        },
        {
          "output_type": "stream",
          "name": "stderr",
          "text": [
            "/usr/local/lib/python3.10/dist-packages/sklearn/utils/validation.py:1143: DataConversionWarning: A column-vector y was passed when a 1d array was expected. Please change the shape of y to (n_samples, ), for example using ravel().\n",
            "  y = column_or_1d(y, warn=True)\n"
          ]
        },
        {
          "output_type": "stream",
          "name": "stdout",
          "text": [
            "**Subject: Rajesh_el || Acc: 0.42857142857142855, AUC: 0.4930555555555556\n"
          ]
        },
        {
          "output_type": "stream",
          "name": "stderr",
          "text": [
            "/usr/local/lib/python3.10/dist-packages/sklearn/utils/validation.py:1143: DataConversionWarning: A column-vector y was passed when a 1d array was expected. Please change the shape of y to (n_samples, ), for example using ravel().\n",
            "  y = column_or_1d(y, warn=True)\n"
          ]
        },
        {
          "output_type": "stream",
          "name": "stdout",
          "text": [
            "**Subject: rajkumar || Acc: 0.5476190476190477, AUC: 0.5137299771167049\n"
          ]
        },
        {
          "output_type": "stream",
          "name": "stderr",
          "text": [
            "/usr/local/lib/python3.10/dist-packages/sklearn/utils/validation.py:1143: DataConversionWarning: A column-vector y was passed when a 1d array was expected. Please change the shape of y to (n_samples, ), for example using ravel().\n",
            "  y = column_or_1d(y, warn=True)\n"
          ]
        },
        {
          "output_type": "stream",
          "name": "stdout",
          "text": [
            "**Subject: Ravi_baba || Acc: 0.42857142857142855, AUC: 0.4736842105263158\n"
          ]
        },
        {
          "output_type": "stream",
          "name": "stderr",
          "text": [
            "/usr/local/lib/python3.10/dist-packages/sklearn/utils/validation.py:1143: DataConversionWarning: A column-vector y was passed when a 1d array was expected. Please change the shape of y to (n_samples, ), for example using ravel().\n",
            "  y = column_or_1d(y, warn=True)\n"
          ]
        },
        {
          "output_type": "stream",
          "name": "stdout",
          "text": [
            "**Subject: Ravi_ph || Acc: 0.7619047619047619, AUC: 0.5747800586510264\n"
          ]
        },
        {
          "output_type": "stream",
          "name": "stderr",
          "text": [
            "/usr/local/lib/python3.10/dist-packages/sklearn/utils/validation.py:1143: DataConversionWarning: A column-vector y was passed when a 1d array was expected. Please change the shape of y to (n_samples, ), for example using ravel().\n",
            "  y = column_or_1d(y, warn=True)\n"
          ]
        },
        {
          "output_type": "stream",
          "name": "stdout",
          "text": [
            "**Subject: Rockysingh || Acc: 0.7317073170731707, AUC: 0.5018939393939394\n"
          ]
        },
        {
          "output_type": "stream",
          "name": "stderr",
          "text": [
            "/usr/local/lib/python3.10/dist-packages/sklearn/utils/validation.py:1143: DataConversionWarning: A column-vector y was passed when a 1d array was expected. Please change the shape of y to (n_samples, ), for example using ravel().\n",
            "  y = column_or_1d(y, warn=True)\n"
          ]
        },
        {
          "output_type": "stream",
          "name": "stdout",
          "text": [
            "**Subject: Rupak || Acc: 0.7857142857142857, AUC: 0.4583333333333333\n"
          ]
        },
        {
          "output_type": "stream",
          "name": "stderr",
          "text": [
            "/usr/local/lib/python3.10/dist-packages/sklearn/utils/validation.py:1143: DataConversionWarning: A column-vector y was passed when a 1d array was expected. Please change the shape of y to (n_samples, ), for example using ravel().\n",
            "  y = column_or_1d(y, warn=True)\n"
          ]
        },
        {
          "output_type": "stream",
          "name": "stdout",
          "text": [
            "**Subject: Sachin || Acc: 0.5238095238095238, AUC: 0.44\n"
          ]
        },
        {
          "output_type": "stream",
          "name": "stderr",
          "text": [
            "/usr/local/lib/python3.10/dist-packages/sklearn/utils/validation.py:1143: DataConversionWarning: A column-vector y was passed when a 1d array was expected. Please change the shape of y to (n_samples, ), for example using ravel().\n",
            "  y = column_or_1d(y, warn=True)\n"
          ]
        },
        {
          "output_type": "stream",
          "name": "stdout",
          "text": [
            "**Subject: Sandeep || Acc: 0.40476190476190477, AUC: 0.4722222222222222\n"
          ]
        },
        {
          "output_type": "stream",
          "name": "stderr",
          "text": [
            "/usr/local/lib/python3.10/dist-packages/sklearn/utils/validation.py:1143: DataConversionWarning: A column-vector y was passed when a 1d array was expected. Please change the shape of y to (n_samples, ), for example using ravel().\n",
            "  y = column_or_1d(y, warn=True)\n"
          ]
        },
        {
          "output_type": "stream",
          "name": "stdout",
          "text": [
            "**Subject: Soumendu || Acc: 0.5, AUC: 0.5389016018306636\n"
          ]
        },
        {
          "output_type": "stream",
          "name": "stderr",
          "text": [
            "/usr/local/lib/python3.10/dist-packages/sklearn/utils/validation.py:1143: DataConversionWarning: A column-vector y was passed when a 1d array was expected. Please change the shape of y to (n_samples, ), for example using ravel().\n",
            "  y = column_or_1d(y, warn=True)\n"
          ]
        },
        {
          "output_type": "stream",
          "name": "stdout",
          "text": [
            "**Subject: Suraj_sir || Acc: 0.30952380952380953, AUC: 0.5166666666666667\n"
          ]
        },
        {
          "output_type": "stream",
          "name": "stderr",
          "text": [
            "/usr/local/lib/python3.10/dist-packages/sklearn/utils/validation.py:1143: DataConversionWarning: A column-vector y was passed when a 1d array was expected. Please change the shape of y to (n_samples, ), for example using ravel().\n",
            "  y = column_or_1d(y, warn=True)\n"
          ]
        },
        {
          "output_type": "stream",
          "name": "stdout",
          "text": [
            "**Subject: taufiq || Acc: 0.4878048780487805, AUC: 0.47619047619047616\n"
          ]
        },
        {
          "output_type": "stream",
          "name": "stderr",
          "text": [
            "/usr/local/lib/python3.10/dist-packages/sklearn/utils/validation.py:1143: DataConversionWarning: A column-vector y was passed when a 1d array was expected. Please change the shape of y to (n_samples, ), for example using ravel().\n",
            "  y = column_or_1d(y, warn=True)\n"
          ]
        },
        {
          "output_type": "stream",
          "name": "stdout",
          "text": [
            "**Subject: Veerpal || Acc: 0.7317073170731707, AUC: 0.4978991596638655\n"
          ]
        },
        {
          "output_type": "stream",
          "name": "stderr",
          "text": [
            "/usr/local/lib/python3.10/dist-packages/sklearn/utils/validation.py:1143: DataConversionWarning: A column-vector y was passed when a 1d array was expected. Please change the shape of y to (n_samples, ), for example using ravel().\n",
            "  y = column_or_1d(y, warn=True)\n"
          ]
        },
        {
          "output_type": "stream",
          "name": "stdout",
          "text": [
            "**Subject: Vijay || Acc: 0.5714285714285714, AUC: 0.5\n"
          ]
        },
        {
          "output_type": "stream",
          "name": "stderr",
          "text": [
            "/usr/local/lib/python3.10/dist-packages/sklearn/utils/validation.py:1143: DataConversionWarning: A column-vector y was passed when a 1d array was expected. Please change the shape of y to (n_samples, ), for example using ravel().\n",
            "  y = column_or_1d(y, warn=True)\n"
          ]
        },
        {
          "output_type": "stream",
          "name": "stdout",
          "text": [
            "**Subject: Vipin_1 || Acc: 0.4523809523809524, AUC: 0.45238095238095244\n"
          ]
        },
        {
          "output_type": "stream",
          "name": "stderr",
          "text": [
            "/usr/local/lib/python3.10/dist-packages/sklearn/utils/validation.py:1143: DataConversionWarning: A column-vector y was passed when a 1d array was expected. Please change the shape of y to (n_samples, ), for example using ravel().\n",
            "  y = column_or_1d(y, warn=True)\n"
          ]
        },
        {
          "output_type": "stream",
          "name": "stdout",
          "text": [
            "**Subject: Viraj_1 || Acc: 0.8095238095238095, AUC: 0.6363636363636364\n",
            "Avg_ACC=0.0, Avg_AUC=0.0\n"
          ]
        }
      ]
    },
    {
      "cell_type": "code",
      "source": [
        "#RF\n",
        "ml_cv_run('RF', RandomForestClassifier(), data_cv)"
      ],
      "metadata": {
        "colab": {
          "base_uri": "https://localhost:8080/"
        },
        "id": "mb_4d51w_G3A",
        "outputId": "b9e22b4d-68ab-4d13-d8c6-e0099d078b96"
      },
      "execution_count": 32,
      "outputs": [
        {
          "output_type": "stream",
          "name": "stderr",
          "text": [
            "<ipython-input-28-8fe9f1d6d9d5>:10: DataConversionWarning: A column-vector y was passed when a 1d array was expected. Please change the shape of y to (n_samples,), for example using ravel().\n",
            "  model.fit(X_train, y_train)\n"
          ]
        },
        {
          "output_type": "stream",
          "name": "stdout",
          "text": [
            "**Subject: Abhishek || Acc: 0.4523809523809524, AUC: 0.45238095238095233\n"
          ]
        },
        {
          "output_type": "stream",
          "name": "stderr",
          "text": [
            "<ipython-input-28-8fe9f1d6d9d5>:10: DataConversionWarning: A column-vector y was passed when a 1d array was expected. Please change the shape of y to (n_samples,), for example using ravel().\n",
            "  model.fit(X_train, y_train)\n"
          ]
        },
        {
          "output_type": "stream",
          "name": "stdout",
          "text": [
            "**Subject: Ankur_sir || Acc: 0.5853658536585366, AUC: 0.575\n"
          ]
        },
        {
          "output_type": "stream",
          "name": "stderr",
          "text": [
            "<ipython-input-28-8fe9f1d6d9d5>:10: DataConversionWarning: A column-vector y was passed when a 1d array was expected. Please change the shape of y to (n_samples,), for example using ravel().\n",
            "  model.fit(X_train, y_train)\n"
          ]
        },
        {
          "output_type": "stream",
          "name": "stdout",
          "text": [
            "**Subject: Gautam || Acc: 0.7023809523809523, AUC: 0.6791666666666668\n"
          ]
        },
        {
          "output_type": "stream",
          "name": "stderr",
          "text": [
            "<ipython-input-28-8fe9f1d6d9d5>:10: DataConversionWarning: A column-vector y was passed when a 1d array was expected. Please change the shape of y to (n_samples,), for example using ravel().\n",
            "  model.fit(X_train, y_train)\n"
          ]
        },
        {
          "output_type": "stream",
          "name": "stdout",
          "text": [
            "**Subject: Gautam_123 || Acc: 0.9523809523809523, AUC: 0.9333333333333333\n"
          ]
        },
        {
          "output_type": "stream",
          "name": "stderr",
          "text": [
            "<ipython-input-28-8fe9f1d6d9d5>:10: DataConversionWarning: A column-vector y was passed when a 1d array was expected. Please change the shape of y to (n_samples,), for example using ravel().\n",
            "  model.fit(X_train, y_train)\n"
          ]
        },
        {
          "output_type": "stream",
          "name": "stdout",
          "text": [
            "**Subject: Girvar_yadav || Acc: 0.6428571428571429, AUC: 0.5682352941176471\n"
          ]
        },
        {
          "output_type": "stream",
          "name": "stderr",
          "text": [
            "<ipython-input-28-8fe9f1d6d9d5>:10: DataConversionWarning: A column-vector y was passed when a 1d array was expected. Please change the shape of y to (n_samples,), for example using ravel().\n",
            "  model.fit(X_train, y_train)\n"
          ]
        },
        {
          "output_type": "stream",
          "name": "stdout",
          "text": [
            "**Subject: Kishore_babu || Acc: 0.2619047619047619, AUC: 0.5303030303030303\n"
          ]
        },
        {
          "output_type": "stream",
          "name": "stderr",
          "text": [
            "<ipython-input-28-8fe9f1d6d9d5>:10: DataConversionWarning: A column-vector y was passed when a 1d array was expected. Please change the shape of y to (n_samples,), for example using ravel().\n",
            "  model.fit(X_train, y_train)\n"
          ]
        },
        {
          "output_type": "stream",
          "name": "stdout",
          "text": [
            "**Subject: mahendra || Acc: 0.42857142857142855, AUC: 0.5555555555555556\n"
          ]
        },
        {
          "output_type": "stream",
          "name": "stderr",
          "text": [
            "<ipython-input-28-8fe9f1d6d9d5>:10: DataConversionWarning: A column-vector y was passed when a 1d array was expected. Please change the shape of y to (n_samples,), for example using ravel().\n",
            "  model.fit(X_train, y_train)\n"
          ]
        },
        {
          "output_type": "stream",
          "name": "stdout",
          "text": [
            "**Subject: Mohit || Acc: 0.5714285714285714, AUC: 0.5545454545454545\n"
          ]
        },
        {
          "output_type": "stream",
          "name": "stderr",
          "text": [
            "<ipython-input-28-8fe9f1d6d9d5>:10: DataConversionWarning: A column-vector y was passed when a 1d array was expected. Please change the shape of y to (n_samples,), for example using ravel().\n",
            "  model.fit(X_train, y_train)\n"
          ]
        },
        {
          "output_type": "stream",
          "name": "stdout",
          "text": [
            "**Subject: pawan_sahu || Acc: 0.5609756097560976, AUC: 0.5547619047619048\n"
          ]
        },
        {
          "output_type": "stream",
          "name": "stderr",
          "text": [
            "<ipython-input-28-8fe9f1d6d9d5>:10: DataConversionWarning: A column-vector y was passed when a 1d array was expected. Please change the shape of y to (n_samples,), for example using ravel().\n",
            "  model.fit(X_train, y_train)\n"
          ]
        },
        {
          "output_type": "stream",
          "name": "stdout",
          "text": [
            "**Subject: pradeep || Acc: 0.5, AUC: 0.4388235294117647\n"
          ]
        },
        {
          "output_type": "stream",
          "name": "stderr",
          "text": [
            "<ipython-input-28-8fe9f1d6d9d5>:10: DataConversionWarning: A column-vector y was passed when a 1d array was expected. Please change the shape of y to (n_samples,), for example using ravel().\n",
            "  model.fit(X_train, y_train)\n"
          ]
        },
        {
          "output_type": "stream",
          "name": "stdout",
          "text": [
            "**Subject: Rajesh_el || Acc: 0.40476190476190477, AUC: 0.4652777777777778\n"
          ]
        },
        {
          "output_type": "stream",
          "name": "stderr",
          "text": [
            "<ipython-input-28-8fe9f1d6d9d5>:10: DataConversionWarning: A column-vector y was passed when a 1d array was expected. Please change the shape of y to (n_samples,), for example using ravel().\n",
            "  model.fit(X_train, y_train)\n"
          ]
        },
        {
          "output_type": "stream",
          "name": "stdout",
          "text": [
            "**Subject: rajkumar || Acc: 0.5, AUC: 0.4565217391304348\n"
          ]
        },
        {
          "output_type": "stream",
          "name": "stderr",
          "text": [
            "<ipython-input-28-8fe9f1d6d9d5>:10: DataConversionWarning: A column-vector y was passed when a 1d array was expected. Please change the shape of y to (n_samples,), for example using ravel().\n",
            "  model.fit(X_train, y_train)\n"
          ]
        },
        {
          "output_type": "stream",
          "name": "stdout",
          "text": [
            "**Subject: Ravi_baba || Acc: 0.38095238095238093, AUC: 0.42105263157894735\n"
          ]
        },
        {
          "output_type": "stream",
          "name": "stderr",
          "text": [
            "<ipython-input-28-8fe9f1d6d9d5>:10: DataConversionWarning: A column-vector y was passed when a 1d array was expected. Please change the shape of y to (n_samples,), for example using ravel().\n",
            "  model.fit(X_train, y_train)\n"
          ]
        },
        {
          "output_type": "stream",
          "name": "stdout",
          "text": [
            "**Subject: Ravi_ph || Acc: 0.6904761904761905, AUC: 0.5263929618768328\n"
          ]
        },
        {
          "output_type": "stream",
          "name": "stderr",
          "text": [
            "<ipython-input-28-8fe9f1d6d9d5>:10: DataConversionWarning: A column-vector y was passed when a 1d array was expected. Please change the shape of y to (n_samples,), for example using ravel().\n",
            "  model.fit(X_train, y_train)\n"
          ]
        },
        {
          "output_type": "stream",
          "name": "stdout",
          "text": [
            "**Subject: Rockysingh || Acc: 0.8048780487804879, AUC: 0.5946969696969697\n"
          ]
        },
        {
          "output_type": "stream",
          "name": "stderr",
          "text": [
            "<ipython-input-28-8fe9f1d6d9d5>:10: DataConversionWarning: A column-vector y was passed when a 1d array was expected. Please change the shape of y to (n_samples,), for example using ravel().\n",
            "  model.fit(X_train, y_train)\n"
          ]
        },
        {
          "output_type": "stream",
          "name": "stdout",
          "text": [
            "**Subject: Rupak || Acc: 0.7857142857142857, AUC: 0.5277777777777778\n"
          ]
        },
        {
          "output_type": "stream",
          "name": "stderr",
          "text": [
            "<ipython-input-28-8fe9f1d6d9d5>:10: DataConversionWarning: A column-vector y was passed when a 1d array was expected. Please change the shape of y to (n_samples,), for example using ravel().\n",
            "  model.fit(X_train, y_train)\n"
          ]
        },
        {
          "output_type": "stream",
          "name": "stdout",
          "text": [
            "**Subject: Sachin || Acc: 0.6428571428571429, AUC: 0.5870588235294119\n"
          ]
        },
        {
          "output_type": "stream",
          "name": "stderr",
          "text": [
            "<ipython-input-28-8fe9f1d6d9d5>:10: DataConversionWarning: A column-vector y was passed when a 1d array was expected. Please change the shape of y to (n_samples,), for example using ravel().\n",
            "  model.fit(X_train, y_train)\n"
          ]
        },
        {
          "output_type": "stream",
          "name": "stdout",
          "text": [
            "**Subject: Sandeep || Acc: 0.3333333333333333, AUC: 0.3888888888888889\n"
          ]
        },
        {
          "output_type": "stream",
          "name": "stderr",
          "text": [
            "<ipython-input-28-8fe9f1d6d9d5>:10: DataConversionWarning: A column-vector y was passed when a 1d array was expected. Please change the shape of y to (n_samples,), for example using ravel().\n",
            "  model.fit(X_train, y_train)\n"
          ]
        },
        {
          "output_type": "stream",
          "name": "stdout",
          "text": [
            "**Subject: Soumendu || Acc: 0.5238095238095238, AUC: 0.551487414187643\n"
          ]
        },
        {
          "output_type": "stream",
          "name": "stderr",
          "text": [
            "<ipython-input-28-8fe9f1d6d9d5>:10: DataConversionWarning: A column-vector y was passed when a 1d array was expected. Please change the shape of y to (n_samples,), for example using ravel().\n",
            "  model.fit(X_train, y_train)\n"
          ]
        },
        {
          "output_type": "stream",
          "name": "stdout",
          "text": [
            "**Subject: Suraj_sir || Acc: 0.35714285714285715, AUC: 0.55\n"
          ]
        },
        {
          "output_type": "stream",
          "name": "stderr",
          "text": [
            "<ipython-input-28-8fe9f1d6d9d5>:10: DataConversionWarning: A column-vector y was passed when a 1d array was expected. Please change the shape of y to (n_samples,), for example using ravel().\n",
            "  model.fit(X_train, y_train)\n"
          ]
        },
        {
          "output_type": "stream",
          "name": "stdout",
          "text": [
            "**Subject: taufiq || Acc: 0.4634146341463415, AUC: 0.4547619047619048\n"
          ]
        },
        {
          "output_type": "stream",
          "name": "stderr",
          "text": [
            "<ipython-input-28-8fe9f1d6d9d5>:10: DataConversionWarning: A column-vector y was passed when a 1d array was expected. Please change the shape of y to (n_samples,), for example using ravel().\n",
            "  model.fit(X_train, y_train)\n"
          ]
        },
        {
          "output_type": "stream",
          "name": "stdout",
          "text": [
            "**Subject: Veerpal || Acc: 0.7804878048780488, AUC: 0.5273109243697478\n"
          ]
        },
        {
          "output_type": "stream",
          "name": "stderr",
          "text": [
            "<ipython-input-28-8fe9f1d6d9d5>:10: DataConversionWarning: A column-vector y was passed when a 1d array was expected. Please change the shape of y to (n_samples,), for example using ravel().\n",
            "  model.fit(X_train, y_train)\n"
          ]
        },
        {
          "output_type": "stream",
          "name": "stdout",
          "text": [
            "**Subject: Vijay || Acc: 0.47619047619047616, AUC: 0.4236111111111111\n"
          ]
        },
        {
          "output_type": "stream",
          "name": "stderr",
          "text": [
            "<ipython-input-28-8fe9f1d6d9d5>:10: DataConversionWarning: A column-vector y was passed when a 1d array was expected. Please change the shape of y to (n_samples,), for example using ravel().\n",
            "  model.fit(X_train, y_train)\n"
          ]
        },
        {
          "output_type": "stream",
          "name": "stdout",
          "text": [
            "**Subject: Vipin_1 || Acc: 0.47619047619047616, AUC: 0.47619047619047616\n"
          ]
        },
        {
          "output_type": "stream",
          "name": "stderr",
          "text": [
            "<ipython-input-28-8fe9f1d6d9d5>:10: DataConversionWarning: A column-vector y was passed when a 1d array was expected. Please change the shape of y to (n_samples,), for example using ravel().\n",
            "  model.fit(X_train, y_train)\n"
          ]
        },
        {
          "output_type": "stream",
          "name": "stdout",
          "text": [
            "**Subject: Viraj_1 || Acc: 0.6190476190476191, AUC: 0.41935483870967744\n",
            "Avg_ACC=0.0, Avg_AUC=0.0\n"
          ]
        }
      ]
    },
    {
      "cell_type": "code",
      "source": [
        "#LDA\n",
        "ml_cv_run('LDA', LinearDiscriminantAnalysis(), data_cv)"
      ],
      "metadata": {
        "colab": {
          "base_uri": "https://localhost:8080/"
        },
        "id": "52gSkQhnwVr0",
        "outputId": "f2176dd2-54de-46d0-ed38-db2892ae12cb"
      },
      "execution_count": 33,
      "outputs": [
        {
          "output_type": "stream",
          "name": "stderr",
          "text": [
            "/usr/local/lib/python3.10/dist-packages/sklearn/utils/validation.py:1143: DataConversionWarning: A column-vector y was passed when a 1d array was expected. Please change the shape of y to (n_samples, ), for example using ravel().\n",
            "  y = column_or_1d(y, warn=True)\n"
          ]
        },
        {
          "output_type": "stream",
          "name": "stdout",
          "text": [
            "**Subject: Abhishek || Acc: 0.5476190476190477, AUC: 0.5476190476190477\n"
          ]
        },
        {
          "output_type": "stream",
          "name": "stderr",
          "text": [
            "/usr/local/lib/python3.10/dist-packages/sklearn/utils/validation.py:1143: DataConversionWarning: A column-vector y was passed when a 1d array was expected. Please change the shape of y to (n_samples, ), for example using ravel().\n",
            "  y = column_or_1d(y, warn=True)\n"
          ]
        },
        {
          "output_type": "stream",
          "name": "stdout",
          "text": [
            "**Subject: Ankur_sir || Acc: 0.5365853658536586, AUC: 0.5380952380952381\n"
          ]
        },
        {
          "output_type": "stream",
          "name": "stderr",
          "text": [
            "/usr/local/lib/python3.10/dist-packages/sklearn/utils/validation.py:1143: DataConversionWarning: A column-vector y was passed when a 1d array was expected. Please change the shape of y to (n_samples, ), for example using ravel().\n",
            "  y = column_or_1d(y, warn=True)\n"
          ]
        },
        {
          "output_type": "stream",
          "name": "stdout",
          "text": [
            "**Subject: Gautam || Acc: 0.7380952380952381, AUC: 0.7416666666666667\n"
          ]
        },
        {
          "output_type": "stream",
          "name": "stderr",
          "text": [
            "/usr/local/lib/python3.10/dist-packages/sklearn/utils/validation.py:1143: DataConversionWarning: A column-vector y was passed when a 1d array was expected. Please change the shape of y to (n_samples, ), for example using ravel().\n",
            "  y = column_or_1d(y, warn=True)\n"
          ]
        },
        {
          "output_type": "stream",
          "name": "stdout",
          "text": [
            "**Subject: Gautam_123 || Acc: 0.4523809523809524, AUC: 0.42592592592592593\n"
          ]
        },
        {
          "output_type": "stream",
          "name": "stderr",
          "text": [
            "/usr/local/lib/python3.10/dist-packages/sklearn/utils/validation.py:1143: DataConversionWarning: A column-vector y was passed when a 1d array was expected. Please change the shape of y to (n_samples, ), for example using ravel().\n",
            "  y = column_or_1d(y, warn=True)\n"
          ]
        },
        {
          "output_type": "stream",
          "name": "stdout",
          "text": [
            "**Subject: Girvar_yadav || Acc: 0.5714285714285714, AUC: 0.5835294117647059\n"
          ]
        },
        {
          "output_type": "stream",
          "name": "stderr",
          "text": [
            "/usr/local/lib/python3.10/dist-packages/sklearn/utils/validation.py:1143: DataConversionWarning: A column-vector y was passed when a 1d array was expected. Please change the shape of y to (n_samples, ), for example using ravel().\n",
            "  y = column_or_1d(y, warn=True)\n"
          ]
        },
        {
          "output_type": "stream",
          "name": "stdout",
          "text": [
            "**Subject: Kishore_babu || Acc: 0.47619047619047616, AUC: 0.5050505050505051\n"
          ]
        },
        {
          "output_type": "stream",
          "name": "stderr",
          "text": [
            "/usr/local/lib/python3.10/dist-packages/sklearn/utils/validation.py:1143: DataConversionWarning: A column-vector y was passed when a 1d array was expected. Please change the shape of y to (n_samples, ), for example using ravel().\n",
            "  y = column_or_1d(y, warn=True)\n"
          ]
        },
        {
          "output_type": "stream",
          "name": "stdout",
          "text": [
            "**Subject: mahendra || Acc: 0.5714285714285714, AUC: 0.6074074074074074\n"
          ]
        },
        {
          "output_type": "stream",
          "name": "stderr",
          "text": [
            "/usr/local/lib/python3.10/dist-packages/sklearn/utils/validation.py:1143: DataConversionWarning: A column-vector y was passed when a 1d array was expected. Please change the shape of y to (n_samples, ), for example using ravel().\n",
            "  y = column_or_1d(y, warn=True)\n"
          ]
        },
        {
          "output_type": "stream",
          "name": "stdout",
          "text": [
            "**Subject: Mohit || Acc: 0.5, AUC: 0.5045454545454545\n"
          ]
        },
        {
          "output_type": "stream",
          "name": "stderr",
          "text": [
            "/usr/local/lib/python3.10/dist-packages/sklearn/utils/validation.py:1143: DataConversionWarning: A column-vector y was passed when a 1d array was expected. Please change the shape of y to (n_samples, ), for example using ravel().\n",
            "  y = column_or_1d(y, warn=True)\n"
          ]
        },
        {
          "output_type": "stream",
          "name": "stdout",
          "text": [
            "**Subject: pawan_sahu || Acc: 0.4634146341463415, AUC: 0.4619047619047619\n"
          ]
        },
        {
          "output_type": "stream",
          "name": "stderr",
          "text": [
            "/usr/local/lib/python3.10/dist-packages/sklearn/utils/validation.py:1143: DataConversionWarning: A column-vector y was passed when a 1d array was expected. Please change the shape of y to (n_samples, ), for example using ravel().\n",
            "  y = column_or_1d(y, warn=True)\n"
          ]
        },
        {
          "output_type": "stream",
          "name": "stdout",
          "text": [
            "**Subject: pradeep || Acc: 0.6190476190476191, AUC: 0.6141176470588235\n"
          ]
        },
        {
          "output_type": "stream",
          "name": "stderr",
          "text": [
            "/usr/local/lib/python3.10/dist-packages/sklearn/utils/validation.py:1143: DataConversionWarning: A column-vector y was passed when a 1d array was expected. Please change the shape of y to (n_samples, ), for example using ravel().\n",
            "  y = column_or_1d(y, warn=True)\n"
          ]
        },
        {
          "output_type": "stream",
          "name": "stdout",
          "text": [
            "**Subject: Rajesh_el || Acc: 0.42857142857142855, AUC: 0.4305555555555556\n"
          ]
        },
        {
          "output_type": "stream",
          "name": "stderr",
          "text": [
            "/usr/local/lib/python3.10/dist-packages/sklearn/utils/validation.py:1143: DataConversionWarning: A column-vector y was passed when a 1d array was expected. Please change the shape of y to (n_samples, ), for example using ravel().\n",
            "  y = column_or_1d(y, warn=True)\n"
          ]
        },
        {
          "output_type": "stream",
          "name": "stdout",
          "text": [
            "**Subject: rajkumar || Acc: 0.5, AUC: 0.5068649885583525\n"
          ]
        },
        {
          "output_type": "stream",
          "name": "stderr",
          "text": [
            "/usr/local/lib/python3.10/dist-packages/sklearn/utils/validation.py:1143: DataConversionWarning: A column-vector y was passed when a 1d array was expected. Please change the shape of y to (n_samples, ), for example using ravel().\n",
            "  y = column_or_1d(y, warn=True)\n"
          ]
        },
        {
          "output_type": "stream",
          "name": "stdout",
          "text": [
            "**Subject: Ravi_baba || Acc: 0.5, AUC: 0.5022883295194508\n"
          ]
        },
        {
          "output_type": "stream",
          "name": "stderr",
          "text": [
            "/usr/local/lib/python3.10/dist-packages/sklearn/utils/validation.py:1143: DataConversionWarning: A column-vector y was passed when a 1d array was expected. Please change the shape of y to (n_samples, ), for example using ravel().\n",
            "  y = column_or_1d(y, warn=True)\n"
          ]
        },
        {
          "output_type": "stream",
          "name": "stdout",
          "text": [
            "**Subject: Ravi_ph || Acc: 0.5, AUC: 0.5439882697947214\n"
          ]
        },
        {
          "output_type": "stream",
          "name": "stderr",
          "text": [
            "/usr/local/lib/python3.10/dist-packages/sklearn/utils/validation.py:1143: DataConversionWarning: A column-vector y was passed when a 1d array was expected. Please change the shape of y to (n_samples, ), for example using ravel().\n",
            "  y = column_or_1d(y, warn=True)\n"
          ]
        },
        {
          "output_type": "stream",
          "name": "stdout",
          "text": [
            "**Subject: Rockysingh || Acc: 0.4878048780487805, AUC: 0.5397727272727273\n"
          ]
        },
        {
          "output_type": "stream",
          "name": "stderr",
          "text": [
            "/usr/local/lib/python3.10/dist-packages/sklearn/utils/validation.py:1143: DataConversionWarning: A column-vector y was passed when a 1d array was expected. Please change the shape of y to (n_samples, ), for example using ravel().\n",
            "  y = column_or_1d(y, warn=True)\n"
          ]
        },
        {
          "output_type": "stream",
          "name": "stdout",
          "text": [
            "**Subject: Rupak || Acc: 0.5952380952380952, AUC: 0.5555555555555556\n"
          ]
        },
        {
          "output_type": "stream",
          "name": "stderr",
          "text": [
            "/usr/local/lib/python3.10/dist-packages/sklearn/utils/validation.py:1143: DataConversionWarning: A column-vector y was passed when a 1d array was expected. Please change the shape of y to (n_samples, ), for example using ravel().\n",
            "  y = column_or_1d(y, warn=True)\n"
          ]
        },
        {
          "output_type": "stream",
          "name": "stdout",
          "text": [
            "**Subject: Sachin || Acc: 0.47619047619047616, AUC: 0.47529411764705887\n"
          ]
        },
        {
          "output_type": "stream",
          "name": "stderr",
          "text": [
            "/usr/local/lib/python3.10/dist-packages/sklearn/utils/validation.py:1143: DataConversionWarning: A column-vector y was passed when a 1d array was expected. Please change the shape of y to (n_samples, ), for example using ravel().\n",
            "  y = column_or_1d(y, warn=True)\n"
          ]
        },
        {
          "output_type": "stream",
          "name": "stdout",
          "text": [
            "**Subject: Sandeep || Acc: 0.5, AUC: 0.5069444444444444\n"
          ]
        },
        {
          "output_type": "stream",
          "name": "stderr",
          "text": [
            "/usr/local/lib/python3.10/dist-packages/sklearn/utils/validation.py:1143: DataConversionWarning: A column-vector y was passed when a 1d array was expected. Please change the shape of y to (n_samples, ), for example using ravel().\n",
            "  y = column_or_1d(y, warn=True)\n"
          ]
        },
        {
          "output_type": "stream",
          "name": "stdout",
          "text": [
            "**Subject: Soumendu || Acc: 0.5238095238095238, AUC: 0.5148741418764302\n"
          ]
        },
        {
          "output_type": "stream",
          "name": "stderr",
          "text": [
            "/usr/local/lib/python3.10/dist-packages/sklearn/utils/validation.py:1143: DataConversionWarning: A column-vector y was passed when a 1d array was expected. Please change the shape of y to (n_samples, ), for example using ravel().\n",
            "  y = column_or_1d(y, warn=True)\n"
          ]
        },
        {
          "output_type": "stream",
          "name": "stdout",
          "text": [
            "**Subject: Suraj_sir || Acc: 0.47619047619047616, AUC: 0.5083333333333333\n"
          ]
        },
        {
          "output_type": "stream",
          "name": "stderr",
          "text": [
            "/usr/local/lib/python3.10/dist-packages/sklearn/utils/validation.py:1143: DataConversionWarning: A column-vector y was passed when a 1d array was expected. Please change the shape of y to (n_samples, ), for example using ravel().\n",
            "  y = column_or_1d(y, warn=True)\n"
          ]
        },
        {
          "output_type": "stream",
          "name": "stdout",
          "text": [
            "**Subject: taufiq || Acc: 0.5365853658536586, AUC: 0.5333333333333333\n"
          ]
        },
        {
          "output_type": "stream",
          "name": "stderr",
          "text": [
            "/usr/local/lib/python3.10/dist-packages/sklearn/utils/validation.py:1143: DataConversionWarning: A column-vector y was passed when a 1d array was expected. Please change the shape of y to (n_samples, ), for example using ravel().\n",
            "  y = column_or_1d(y, warn=True)\n"
          ]
        },
        {
          "output_type": "stream",
          "name": "stdout",
          "text": [
            "**Subject: Veerpal || Acc: 0.5609756097560976, AUC: 0.4516806722689075\n"
          ]
        },
        {
          "output_type": "stream",
          "name": "stderr",
          "text": [
            "/usr/local/lib/python3.10/dist-packages/sklearn/utils/validation.py:1143: DataConversionWarning: A column-vector y was passed when a 1d array was expected. Please change the shape of y to (n_samples, ), for example using ravel().\n",
            "  y = column_or_1d(y, warn=True)\n"
          ]
        },
        {
          "output_type": "stream",
          "name": "stdout",
          "text": [
            "**Subject: Vijay || Acc: 0.5238095238095238, AUC: 0.5138888888888888\n"
          ]
        },
        {
          "output_type": "stream",
          "name": "stderr",
          "text": [
            "/usr/local/lib/python3.10/dist-packages/sklearn/utils/validation.py:1143: DataConversionWarning: A column-vector y was passed when a 1d array was expected. Please change the shape of y to (n_samples, ), for example using ravel().\n",
            "  y = column_or_1d(y, warn=True)\n"
          ]
        },
        {
          "output_type": "stream",
          "name": "stdout",
          "text": [
            "**Subject: Vipin_1 || Acc: 0.35714285714285715, AUC: 0.35714285714285715\n"
          ]
        },
        {
          "output_type": "stream",
          "name": "stderr",
          "text": [
            "/usr/local/lib/python3.10/dist-packages/sklearn/utils/validation.py:1143: DataConversionWarning: A column-vector y was passed when a 1d array was expected. Please change the shape of y to (n_samples, ), for example using ravel().\n",
            "  y = column_or_1d(y, warn=True)\n"
          ]
        },
        {
          "output_type": "stream",
          "name": "stdout",
          "text": [
            "**Subject: Viraj_1 || Acc: 0.5, AUC: 0.48533724340175954\n",
            "Avg_ACC=0.0, Avg_AUC=0.0\n"
          ]
        }
      ]
    },
    {
      "cell_type": "code",
      "source": [
        "#KNN\n",
        "ml_cv_run('KNN',  KNeighborsClassifier(), data_cv)"
      ],
      "metadata": {
        "colab": {
          "base_uri": "https://localhost:8080/"
        },
        "id": "rJ53-AeswXzK",
        "outputId": "b1814d7a-0a57-412d-f68d-d134e0ea6270"
      },
      "execution_count": 34,
      "outputs": [
        {
          "output_type": "stream",
          "name": "stderr",
          "text": [
            "/usr/local/lib/python3.10/dist-packages/sklearn/neighbors/_classification.py:215: DataConversionWarning: A column-vector y was passed when a 1d array was expected. Please change the shape of y to (n_samples,), for example using ravel().\n",
            "  return self._fit(X, y)\n"
          ]
        },
        {
          "output_type": "stream",
          "name": "stdout",
          "text": [
            "**Subject: Abhishek || Acc: 0.5238095238095238, AUC: 0.5238095238095238\n"
          ]
        },
        {
          "output_type": "stream",
          "name": "stderr",
          "text": [
            "/usr/local/lib/python3.10/dist-packages/sklearn/neighbors/_classification.py:215: DataConversionWarning: A column-vector y was passed when a 1d array was expected. Please change the shape of y to (n_samples,), for example using ravel().\n",
            "  return self._fit(X, y)\n"
          ]
        },
        {
          "output_type": "stream",
          "name": "stdout",
          "text": [
            "**Subject: Ankur_sir || Acc: 0.4878048780487805, AUC: 0.4988095238095238\n"
          ]
        },
        {
          "output_type": "stream",
          "name": "stderr",
          "text": [
            "/usr/local/lib/python3.10/dist-packages/sklearn/neighbors/_classification.py:215: DataConversionWarning: A column-vector y was passed when a 1d array was expected. Please change the shape of y to (n_samples,), for example using ravel().\n",
            "  return self._fit(X, y)\n"
          ]
        },
        {
          "output_type": "stream",
          "name": "stdout",
          "text": [
            "**Subject: Gautam || Acc: 0.35714285714285715, AUC: 0.5249999999999999\n"
          ]
        },
        {
          "output_type": "stream",
          "name": "stderr",
          "text": [
            "/usr/local/lib/python3.10/dist-packages/sklearn/neighbors/_classification.py:215: DataConversionWarning: A column-vector y was passed when a 1d array was expected. Please change the shape of y to (n_samples,), for example using ravel().\n",
            "  return self._fit(X, y)\n"
          ]
        },
        {
          "output_type": "stream",
          "name": "stdout",
          "text": [
            "**Subject: Gautam_123 || Acc: 0.5, AUC: 0.5962962962962963\n"
          ]
        },
        {
          "output_type": "stream",
          "name": "stderr",
          "text": [
            "/usr/local/lib/python3.10/dist-packages/sklearn/neighbors/_classification.py:215: DataConversionWarning: A column-vector y was passed when a 1d array was expected. Please change the shape of y to (n_samples,), for example using ravel().\n",
            "  return self._fit(X, y)\n"
          ]
        },
        {
          "output_type": "stream",
          "name": "stdout",
          "text": [
            "**Subject: Girvar_yadav || Acc: 0.3333333333333333, AUC: 0.4117647058823529\n"
          ]
        },
        {
          "output_type": "stream",
          "name": "stderr",
          "text": [
            "/usr/local/lib/python3.10/dist-packages/sklearn/neighbors/_classification.py:215: DataConversionWarning: A column-vector y was passed when a 1d array was expected. Please change the shape of y to (n_samples,), for example using ravel().\n",
            "  return self._fit(X, y)\n"
          ]
        },
        {
          "output_type": "stream",
          "name": "stdout",
          "text": [
            "**Subject: Kishore_babu || Acc: 0.6666666666666666, AUC: 0.4646464646464647\n"
          ]
        },
        {
          "output_type": "stream",
          "name": "stderr",
          "text": [
            "/usr/local/lib/python3.10/dist-packages/sklearn/neighbors/_classification.py:215: DataConversionWarning: A column-vector y was passed when a 1d array was expected. Please change the shape of y to (n_samples,), for example using ravel().\n",
            "  return self._fit(X, y)\n"
          ]
        },
        {
          "output_type": "stream",
          "name": "stdout",
          "text": [
            "**Subject: mahendra || Acc: 0.6904761904761905, AUC: 0.5666666666666667\n"
          ]
        },
        {
          "output_type": "stream",
          "name": "stderr",
          "text": [
            "/usr/local/lib/python3.10/dist-packages/sklearn/neighbors/_classification.py:215: DataConversionWarning: A column-vector y was passed when a 1d array was expected. Please change the shape of y to (n_samples,), for example using ravel().\n",
            "  return self._fit(X, y)\n"
          ]
        },
        {
          "output_type": "stream",
          "name": "stdout",
          "text": [
            "**Subject: Mohit || Acc: 0.5238095238095238, AUC: 0.5431818181818182\n"
          ]
        },
        {
          "output_type": "stream",
          "name": "stderr",
          "text": [
            "/usr/local/lib/python3.10/dist-packages/sklearn/neighbors/_classification.py:215: DataConversionWarning: A column-vector y was passed when a 1d array was expected. Please change the shape of y to (n_samples,), for example using ravel().\n",
            "  return self._fit(X, y)\n"
          ]
        },
        {
          "output_type": "stream",
          "name": "stdout",
          "text": [
            "**Subject: pawan_sahu || Acc: 0.5609756097560976, AUC: 0.5678571428571428\n"
          ]
        },
        {
          "output_type": "stream",
          "name": "stderr",
          "text": [
            "/usr/local/lib/python3.10/dist-packages/sklearn/neighbors/_classification.py:215: DataConversionWarning: A column-vector y was passed when a 1d array was expected. Please change the shape of y to (n_samples,), for example using ravel().\n",
            "  return self._fit(X, y)\n"
          ]
        },
        {
          "output_type": "stream",
          "name": "stdout",
          "text": [
            "**Subject: pradeep || Acc: 0.47619047619047616, AUC: 0.5411764705882353\n"
          ]
        },
        {
          "output_type": "stream",
          "name": "stderr",
          "text": [
            "/usr/local/lib/python3.10/dist-packages/sklearn/neighbors/_classification.py:215: DataConversionWarning: A column-vector y was passed when a 1d array was expected. Please change the shape of y to (n_samples,), for example using ravel().\n",
            "  return self._fit(X, y)\n"
          ]
        },
        {
          "output_type": "stream",
          "name": "stdout",
          "text": [
            "**Subject: Rajesh_el || Acc: 0.6190476190476191, AUC: 0.5694444444444444\n"
          ]
        },
        {
          "output_type": "stream",
          "name": "stderr",
          "text": [
            "/usr/local/lib/python3.10/dist-packages/sklearn/neighbors/_classification.py:215: DataConversionWarning: A column-vector y was passed when a 1d array was expected. Please change the shape of y to (n_samples,), for example using ravel().\n",
            "  return self._fit(X, y)\n"
          ]
        },
        {
          "output_type": "stream",
          "name": "stdout",
          "text": [
            "**Subject: rajkumar || Acc: 0.5, AUC: 0.5389016018306636\n"
          ]
        },
        {
          "output_type": "stream",
          "name": "stderr",
          "text": [
            "/usr/local/lib/python3.10/dist-packages/sklearn/neighbors/_classification.py:215: DataConversionWarning: A column-vector y was passed when a 1d array was expected. Please change the shape of y to (n_samples,), for example using ravel().\n",
            "  return self._fit(X, y)\n"
          ]
        },
        {
          "output_type": "stream",
          "name": "stdout",
          "text": [
            "**Subject: Ravi_baba || Acc: 0.5476190476190477, AUC: 0.5137299771167048\n"
          ]
        },
        {
          "output_type": "stream",
          "name": "stderr",
          "text": [
            "/usr/local/lib/python3.10/dist-packages/sklearn/neighbors/_classification.py:215: DataConversionWarning: A column-vector y was passed when a 1d array was expected. Please change the shape of y to (n_samples,), for example using ravel().\n",
            "  return self._fit(X, y)\n"
          ]
        },
        {
          "output_type": "stream",
          "name": "stdout",
          "text": [
            "**Subject: Ravi_ph || Acc: 0.40476190476190477, AUC: 0.5381231671554252\n"
          ]
        },
        {
          "output_type": "stream",
          "name": "stderr",
          "text": [
            "/usr/local/lib/python3.10/dist-packages/sklearn/neighbors/_classification.py:215: DataConversionWarning: A column-vector y was passed when a 1d array was expected. Please change the shape of y to (n_samples,), for example using ravel().\n",
            "  return self._fit(X, y)\n"
          ]
        },
        {
          "output_type": "stream",
          "name": "stdout",
          "text": [
            "**Subject: Rockysingh || Acc: 0.1951219512195122, AUC: 0.45265151515151514\n"
          ]
        },
        {
          "output_type": "stream",
          "name": "stderr",
          "text": [
            "/usr/local/lib/python3.10/dist-packages/sklearn/neighbors/_classification.py:215: DataConversionWarning: A column-vector y was passed when a 1d array was expected. Please change the shape of y to (n_samples,), for example using ravel().\n",
            "  return self._fit(X, y)\n"
          ]
        },
        {
          "output_type": "stream",
          "name": "stdout",
          "text": [
            "**Subject: Rupak || Acc: 0.19047619047619047, AUC: 0.3888888888888889\n"
          ]
        },
        {
          "output_type": "stream",
          "name": "stderr",
          "text": [
            "/usr/local/lib/python3.10/dist-packages/sklearn/neighbors/_classification.py:215: DataConversionWarning: A column-vector y was passed when a 1d array was expected. Please change the shape of y to (n_samples,), for example using ravel().\n",
            "  return self._fit(X, y)\n"
          ]
        },
        {
          "output_type": "stream",
          "name": "stdout",
          "text": [
            "**Subject: Sachin || Acc: 0.5, AUC: 0.5800000000000001\n"
          ]
        },
        {
          "output_type": "stream",
          "name": "stderr",
          "text": [
            "/usr/local/lib/python3.10/dist-packages/sklearn/neighbors/_classification.py:215: DataConversionWarning: A column-vector y was passed when a 1d array was expected. Please change the shape of y to (n_samples,), for example using ravel().\n",
            "  return self._fit(X, y)\n"
          ]
        },
        {
          "output_type": "stream",
          "name": "stdout",
          "text": [
            "**Subject: Sandeep || Acc: 0.5714285714285714, AUC: 0.513888888888889\n"
          ]
        },
        {
          "output_type": "stream",
          "name": "stderr",
          "text": [
            "/usr/local/lib/python3.10/dist-packages/sklearn/neighbors/_classification.py:215: DataConversionWarning: A column-vector y was passed when a 1d array was expected. Please change the shape of y to (n_samples,), for example using ravel().\n",
            "  return self._fit(X, y)\n"
          ]
        },
        {
          "output_type": "stream",
          "name": "stdout",
          "text": [
            "**Subject: Soumendu || Acc: 0.47619047619047616, AUC: 0.4439359267734554\n"
          ]
        },
        {
          "output_type": "stream",
          "name": "stderr",
          "text": [
            "/usr/local/lib/python3.10/dist-packages/sklearn/neighbors/_classification.py:215: DataConversionWarning: A column-vector y was passed when a 1d array was expected. Please change the shape of y to (n_samples,), for example using ravel().\n",
            "  return self._fit(X, y)\n"
          ]
        },
        {
          "output_type": "stream",
          "name": "stdout",
          "text": [
            "**Subject: Suraj_sir || Acc: 0.5714285714285714, AUC: 0.4\n"
          ]
        },
        {
          "output_type": "stream",
          "name": "stderr",
          "text": [
            "/usr/local/lib/python3.10/dist-packages/sklearn/neighbors/_classification.py:215: DataConversionWarning: A column-vector y was passed when a 1d array was expected. Please change the shape of y to (n_samples,), for example using ravel().\n",
            "  return self._fit(X, y)\n"
          ]
        },
        {
          "output_type": "stream",
          "name": "stdout",
          "text": [
            "**Subject: taufiq || Acc: 0.5365853658536586, AUC: 0.5464285714285714\n"
          ]
        },
        {
          "output_type": "stream",
          "name": "stderr",
          "text": [
            "/usr/local/lib/python3.10/dist-packages/sklearn/neighbors/_classification.py:215: DataConversionWarning: A column-vector y was passed when a 1d array was expected. Please change the shape of y to (n_samples,), for example using ravel().\n",
            "  return self._fit(X, y)\n"
          ]
        },
        {
          "output_type": "stream",
          "name": "stdout",
          "text": [
            "**Subject: Veerpal || Acc: 0.21951219512195122, AUC: 0.4726890756302521\n"
          ]
        },
        {
          "output_type": "stream",
          "name": "stderr",
          "text": [
            "/usr/local/lib/python3.10/dist-packages/sklearn/neighbors/_classification.py:215: DataConversionWarning: A column-vector y was passed when a 1d array was expected. Please change the shape of y to (n_samples,), for example using ravel().\n",
            "  return self._fit(X, y)\n"
          ]
        },
        {
          "output_type": "stream",
          "name": "stdout",
          "text": [
            "**Subject: Vijay || Acc: 0.40476190476190477, AUC: 0.4513888888888889\n"
          ]
        },
        {
          "output_type": "stream",
          "name": "stderr",
          "text": [
            "/usr/local/lib/python3.10/dist-packages/sklearn/neighbors/_classification.py:215: DataConversionWarning: A column-vector y was passed when a 1d array was expected. Please change the shape of y to (n_samples,), for example using ravel().\n",
            "  return self._fit(X, y)\n"
          ]
        },
        {
          "output_type": "stream",
          "name": "stdout",
          "text": [
            "**Subject: Vipin_1 || Acc: 0.5476190476190477, AUC: 0.5476190476190477\n",
            "**Subject: Viraj_1 || Acc: 0.35714285714285715, AUC: 0.564516129032258\n",
            "Avg_ACC=0.0, Avg_AUC=0.0\n"
          ]
        },
        {
          "output_type": "stream",
          "name": "stderr",
          "text": [
            "/usr/local/lib/python3.10/dist-packages/sklearn/neighbors/_classification.py:215: DataConversionWarning: A column-vector y was passed when a 1d array was expected. Please change the shape of y to (n_samples,), for example using ravel().\n",
            "  return self._fit(X, y)\n"
          ]
        }
      ]
    }
  ]
}